{
 "cells": [
  {
   "cell_type": "code",
   "execution_count": 1,
   "id": "748ec91b",
   "metadata": {},
   "outputs": [
    {
     "name": "stdout",
     "output_type": "stream",
     "text": [
      "input shape:  (1109, 6)\n"
     ]
    }
   ],
   "source": [
    "import numpy as np\n",
    "import pandas as pd\n",
    "from numpy.linalg import matrix_rank, inv\n",
    "from pprint import pprint\n",
    "import scipy.io\n",
    "import cma\n",
    "import warnings\n",
    "import random\n",
    "import scipy.special as scis\n",
    "import scipy.spatial as scispa\n",
    "from cma import CMAEvolutionStrategy\n",
    "mat_data = scipy.io.loadmat('mat/inv_transf.mat')\n",
    "X = mat_data['input'] # Load the .mat file, [Y1,Rho1,Mu1,Rhow,Muw,Utau]\n",
    "Y = mat_data['output']\n",
    "index_data = mat_data['index']\n",
    "index_data = index_data.ravel()\n",
    "y_plus_c = (X[:, 0] * X[:, 1] * X[:, 5]) / X[:, 2]\n",
    "y_plus_c = y_plus_c.reshape(-1,1)\n",
    "data = scipy.io.loadmat('mat/incom_ref.mat')\n",
    "y_plus = data['y_plus']\n",
    "U_utau = data['U_utau']\n",
    "print('input shape: ', X.shape)"
   ]
  },
  {
   "cell_type": "code",
   "execution_count": 2,
   "id": "4bd0b034",
   "metadata": {},
   "outputs": [
    {
     "name": "stdout",
     "output_type": "stream",
     "text": [
      "Rank of D_in: 3\n",
      "D_in matrix:\n",
      " [[ 1 -3 -1 -3 -1  1]\n",
      " [ 0  0 -1  0 -1 -1]\n",
      " [ 0  1  1  1  1  0]]\n",
      "Basis vectors:\n",
      "matrix([[ 0.,  1.,  0., -1.,  0.,  0.],\n",
      "        [ 0.,  0.,  1.,  0., -1.,  0.],\n",
      "        [ 1.,  1., -1., -0., -0.,  1.]])\n"
     ]
    }
   ],
   "source": [
    "D_in = np.matrix('1  -3  -1 -3 -1 1; 0 0 -1 0 -1 -1; 0 1 1 1 1 0')\n",
    "\n",
    "print(\"Rank of D_in:\", matrix_rank(D_in))\n",
    "print(\"D_in matrix:\\n\", D_in)\n",
    "num_rows   = np.shape(D_in)[0]\n",
    "num_cols   = np.shape(D_in)[1]\n",
    "# Function to calculate basis matrices\n",
    "def calc_basis(D_in, col_range):\n",
    "    num_rows   = np.shape(D_in)[0]\n",
    "    num_cols   = np.shape(D_in)[1]\n",
    "    Din1, Din2 = D_in[:, :num_rows], D_in[:, num_rows:]\n",
    "    basis_matrices = []\n",
    "    for i in range(col_range):\n",
    "        x2 = np.zeros((col_range, 1))\n",
    "        x2[i, 0] = -1\n",
    "        x1 = -inv(Din1) * Din2 * x2\n",
    "        basis_matrices.append(np.vstack((x1, x2)))\n",
    "    return np.asmatrix(np.array(basis_matrices))\n",
    "# Generate basis matrices\n",
    "num_basis      = D_in.shape[1] -matrix_rank(D_in)\n",
    "basis_matrices = calc_basis(D_in, num_basis)\n",
    "basis_matrices[-1, :] = -basis_matrices[-1, :]\n",
    "print(\"Basis vectors:\")\n",
    "pprint(basis_matrices)"
   ]
  },
  {
   "cell_type": "code",
   "execution_count": 3,
   "id": "a3d87d14",
   "metadata": {},
   "outputs": [],
   "source": [
    "def calc_pi(a, basis_matrices,X):\n",
    "    coef_pi = np.dot(a, basis_matrices)  # Computes the weighted sum of basis matrices\n",
    "    pi_mat = np.ones((X.shape[0], 1))\n",
    "    for i in range(coef_pi.shape[1]):\n",
    "        tmp = X[:, i] ** coef_pi[:, i]\n",
    "        pi_mat = np.multiply(pi_mat, tmp.reshape(-1, 1))\n",
    "    return pi_mat\n",
    "def calc_pi_omega(coef_pi, X):\n",
    "    pi_mat = np.ones((X.shape[0], 1))\n",
    "    for i in range(coef_pi.shape[1]):\n",
    "        tmp = X[:, i] ** coef_pi[:, i]\n",
    "        pi_mat = np.multiply(pi_mat, tmp.reshape(-1, 1))\n",
    "        \n",
    "    return pi_mat"
   ]
  },
  {
   "cell_type": "code",
   "execution_count": 4,
   "id": "886a86c3",
   "metadata": {},
   "outputs": [],
   "source": [
    "def MI_d_binning(input, output, num_bins):\n",
    "    #Calculate the mutual information between two matrices X and Y using histograms.\n",
    "    #Fast! But not Accurate! Using it for approximation.\n",
    "    #Parameters:\n",
    "    #X (numpy.ndarray): A matrix with shape (num_samples, num_dimensions)\n",
    "    #Y (numpy.ndarray): A matrix with shape (num_samples, num_dimensions)\n",
    "    #num_bins (int): Number of bins for the histogram\n",
    "    #Returns:\n",
    "    #float: The mutual information between X and Y.\n",
    "    def entropy_bin(X, num_bins):\n",
    "        N, D = X.shape\n",
    "        bins = [num_bins] * D\n",
    "        hist, _ = np.histogramdd(X, bins=bins)\n",
    "        hist = hist / np.sum(hist)  # Normalize to get probabilities\n",
    "        positive_indices = hist > 0\n",
    "        return -np.sum(hist[positive_indices] * np.log(hist[positive_indices]))\n",
    "\n",
    "    mi = entropy_bin(input, num_bins) + entropy_bin(output, num_bins) - entropy_bin(np.hstack([input, output]), num_bins)\n",
    "    return mi\n",
    "\n",
    "def KraskovMI1_nats( x, y, k : int = 1 ):\n",
    "    '''Compute the mutual information using the Kraskov estimator (approach\n",
    "    1 in Kraskov et al. (2004))\n",
    "    Parameters\n",
    "        x:  np.ndarray\n",
    "            [ N, dim_x ] First variable of dimension \"dim_x\" with \"N\" samples\n",
    "            per dimension\n",
    "        y:  np.ndarray\n",
    "            [ N, dim_x ] second variable of dimension \"dim_x\" with \"N\" samples\n",
    "            per dimension\n",
    "        \n",
    "        k:  int\n",
    "            Nearest-neighbor ( >= 1 )\n",
    "    '''\n",
    "\n",
    "    N, dim = x.shape\n",
    "\n",
    "    V = np.hstack([ x, y ])\n",
    "\n",
    "    # Init query tree\n",
    "    kdtree = scispa.KDTree( V )\n",
    "    ei, _ = kdtree.query( V, k + 1, p = np.infty)\n",
    "    # infty norm is gonna give us the maximum distance (x-dir or y-dir)\n",
    "    dM = ei[:,-1]\n",
    "\n",
    "    kdtree_x = scispa.KDTree( x )\n",
    "    kdtree_y = scispa.KDTree( y )\n",
    "\n",
    "    nx = kdtree_x.query_ball_point( x, dM , p = np.infty, return_length = True)\n",
    "    ny = kdtree_y.query_ball_point( y, dM , p = np.infty, return_length = True)\n",
    "\n",
    "    # we do not add + 1 because it is accounted in query_ball_point\n",
    "    ave = ( scis.psi( nx ) + scis.psi( ny ) ).mean()\n",
    "\n",
    "    return scis.psi(k) - ave + scis.psi(N)"
   ]
  },
  {
   "cell_type": "code",
   "execution_count": 5,
   "id": "96ba0484",
   "metadata": {},
   "outputs": [],
   "source": [
    "def MI_input_output(para,para_o,basis_matrices,X,Y,num_basis,num_inputs):\n",
    "    with warnings.catch_warnings():\n",
    "        warnings.filterwarnings('error')  # Treat warnings as errors\n",
    "        a_list = [tuple(para[i*num_basis:(i+1)*num_basis]) for i in range(num_inputs)]\n",
    "        a_o_list = [tuple(para_o)]\n",
    "        try:\n",
    "            pi_list = [calc_pi(a, basis_matrices, X) for a in a_list]\n",
    "            pi = np.column_stack(pi_list)\n",
    "            pi_o = np.squeeze(np.array([calc_pi(a_o,basis_matrices,X) for a_o in a_o_list]))\n",
    "        except RuntimeWarning:\n",
    "            return random.uniform(1e6, 1e10)  # Return a large positive value in case of RuntimeWarning\n",
    "    \n",
    "    if np.any(np.isnan(pi)):\n",
    "        return random.uniform(1e6, 1e10)  # Return a large positive value\n",
    "    \n",
    "    Y = Y.reshape(-1, 1)\n",
    "    pi_o = pi_o.reshape(-1, 1)\n",
    "    MI = MI_d_binning(np.array(pi), np.array(Y*pi_o), 40)\n",
    "    return -MI"
   ]
  },
  {
   "cell_type": "code",
   "execution_count": 6,
   "id": "0ea3a299",
   "metadata": {},
   "outputs": [
    {
     "name": "stdout",
     "output_type": "stream",
     "text": [
      "num of paraters: 6\n",
      "(150_w,300)-aCMA-ES (mu_w=78.0,w_1=3%) in dimension 6 (seed=559601, Tue Apr  1 10:42:39 2025)\n",
      "Iterat #Fevals   function value  axis ratio  sigma  min&max std  t[m:s]\n",
      "    1    300 -2.801383743146291e+00 1.0e+00 7.06e-01  6e-01  8e-01 0:00.1\n",
      "    2    600 -2.815435571645286e+00 2.1e+00 8.29e-01  5e-01  8e-01 0:00.2\n",
      "    3    900 -2.833288230937167e+00 3.1e+00 8.32e-01  3e-01  8e-01 0:00.3\n",
      "   26   7800 -3.050654263438914e+00 7.5e+02 1.75e+00  1e-02  5e-01 0:03.3\n",
      "   54  16200 -3.073933311414617e+00 2.6e+03 6.03e+00  3e-04  7e-02 0:07.5\n",
      "   69  20700 -3.074237901793932e+00 2.1e+03 1.05e+01  4e-05  3e-02 0:09.7\n",
      "termination on tolfunhist=1e-12\n",
      "final/bestever f-value = -3.074238e+00 -3.074238e+00 after 20700/17888 evaluations\n",
      "incumbent solution: [-1.7226206348880975, -1.5715528045555194, 0.6593740714117211, 0.06075194653375577, -0.016600195950599098, 0.5836539663632887]\n",
      "std deviation: [0.02258563441299071, 0.029926468342471948, 9.788022626117434e-05, 0.006886781035910524, 0.009073245868733143, 3.740742002053107e-05]\n",
      "Optimized_params [-1.72824566 -1.57896146  0.65943114  0.03903366 -0.04536215  0.58375983]\n",
      "Optimized_MI -3.074237901793932\n"
     ]
    }
   ],
   "source": [
    "num_input = 1\n",
    "num_output= 1\n",
    "num_para_i = num_basis*num_input\n",
    "num_para_o = num_basis*num_output\n",
    "num_para = num_para_i + num_para_o\n",
    "print('num of paraters:',num_para)\n",
    "lower_bounds = [-2] * num_para  \n",
    "upper_bounds = [2] * num_para  \n",
    "bounds = [lower_bounds, upper_bounds]\n",
    "options = {\n",
    "    'bounds': bounds,\n",
    "    'maxiter': 50000,  # maximum number of iterations\n",
    "    'tolx': 1e-4,     # tolerance in solution variability\n",
    "    'tolfun': 1e-4,   # tolerance in function value changes\n",
    "    'popsize': 300,\n",
    "\n",
    "    # ... other options ...\n",
    "}\n",
    "es = CMAEvolutionStrategy([0.1] * num_para, 0.5,options)\n",
    "while not es.stop():\n",
    "    solutions = es.ask()\n",
    "    para_i_o_solutions = [(x[:num_para_i], x[num_para_i:]) for x in solutions]\n",
    "    es.tell(solutions, [MI_input_output(para_i, para_o,basis_matrices,X,Y,num_basis,num_input) for para_i, para_o in para_i_o_solutions])\n",
    "    es.disp()\n",
    "es.result_pretty()\n",
    "optimized_params = es.result.xbest\n",
    "optimized_MI     = es.result.fbest\n",
    "print('Optimized_params',optimized_params)\n",
    "print('Optimized_MI',optimized_MI)"
   ]
  },
  {
   "cell_type": "code",
   "execution_count": 7,
   "id": "4b0b2966",
   "metadata": {},
   "outputs": [
    {
     "name": "stdout",
     "output_type": "stream",
     "text": [
      "a_list =  [(-1.7282456587834514, -1.578961461400216, 0.6594311365032415)]\n",
      "normalized_a_list: [array([-2.62, -2.39,  1.  ])]\n"
     ]
    }
   ],
   "source": [
    "a_list = [tuple(optimized_params[i*num_basis:(i+1)*num_basis]) for i in range(num_input)]\n",
    "print('a_list = ', a_list)\n",
    "normalized_a_list = []\n",
    "for a in a_list:\n",
    "    # Divide each element by a[2]\n",
    "    normalized_a = tuple(x / a[2] for x in a)\n",
    "    normalized_a = np.round(normalized_a,2)\n",
    "    # Append the normalized tuple to the list\n",
    "    normalized_a_list.append(normalized_a)\n",
    "\n",
    "print('normalized_a_list:',normalized_a_list)\n",
    "coef_pi_list = [np.dot(a, basis_matrices) for a in normalized_a_list]\n",
    "\n",
    "normalized_coef_pi_list = []\n",
    "for coef_pi in coef_pi_list:\n",
    "    max_abs_value = np.max(np.abs(coef_pi))\n",
    "    normalized_coef_pi = coef_pi / max_abs_value\n",
    "    normalized_coef_pi_list.append(np.round(normalized_coef_pi,2))"
   ]
  },
  {
   "cell_type": "code",
   "execution_count": 8,
   "id": "f570c59a",
   "metadata": {},
   "outputs": [
    {
     "name": "stdout",
     "output_type": "stream",
     "text": [
      "a_list_o =  [array([ 0. , -0. ,  0.6])]\n"
     ]
    }
   ],
   "source": [
    "# Step 1: Create a_list_o from optimized_params, similar to how a_list was created\n",
    "a_list_o = [np.round(tuple(optimized_params[i*num_basis+num_para_i:(i+1)*num_basis+num_para_i]),1) for i in range(num_input)]\n",
    "print('a_list_o = ' , a_list_o)"
   ]
  },
  {
   "cell_type": "code",
   "execution_count": 9,
   "id": "b6272ac4",
   "metadata": {},
   "outputs": [
    {
     "name": "stdout",
     "output_type": "stream",
     "text": [
      "Modified a_list_o: [(1.572, 1.434, 0.0)]\n"
     ]
    }
   ],
   "source": [
    "# Initialize a new list for the modified a_list_o (normalize the ouput using input)\n",
    "modified_a_list_o = []\n",
    "\n",
    "# Iterate through each a_o and normalized_a from a_list_o and normalized_a_list\n",
    "for a_o, norm_a in zip(a_list_o, normalized_a_list):\n",
    "    # Calculate the ratio between a[2] (from normalized_a) and a_o[2]\n",
    "    ratio = a_o[2] / norm_a[2] \n",
    "    # Perform the subtraction: a_o[i] - (a[i] * ratio) for each element\n",
    "    modified_a_o = tuple(a_o[i] - (norm_a[i] * ratio) for i in range(len(a_o)))\n",
    "    \n",
    "    # Append the modified tuple to the list\n",
    "    modified_a_list_o.append(modified_a_o)\n",
    "# Print or return the modified list\n",
    "print(\"Modified a_list_o:\", modified_a_list_o)\n",
    "a_list_o = modified_a_list_o"
   ]
  },
  {
   "cell_type": "code",
   "execution_count": 10,
   "id": "f0bae4a4",
   "metadata": {},
   "outputs": [
    {
     "name": "stdout",
     "output_type": "stream",
     "text": [
      "Pi_i_lab[0] = $\\frac{(\\frac{y \\rho u_{\\tau}}{\\mu})^{1.0}}{(\\frac{\\rho}{\\rho_w})^{2.62} \\cdot (\\frac{\\mu}{\\mu_w})^{2.39}}$\n",
      "Pi_o_lab[0] = $\\frac{u}{u_{\\tau}} \\cdot (\\frac{\\rho}{\\rho_w})^{1.57} \\cdot (\\frac{\\mu}{\\mu_w})^{1.43}$\n"
     ]
    }
   ],
   "source": [
    "import numpy as np\n",
    "variables_pi_i = ['(\\\\frac{\\\\rho}{\\\\rho_w})', '(\\\\frac{\\\\mu}{\\\\mu_w})', '(\\\\frac{y \\\\rho u_{\\\\tau}}{\\\\mu})']\n",
    "variables_pi_o = ['(\\\\frac{\\\\rho}{\\\\rho_w})', '(\\\\frac{\\\\mu}{\\\\mu_w})', '(\\\\frac{y \\\\rho u_{\\\\tau}}{\\\\mu})']\n",
    "\n",
    "Pi_i_lab = []\n",
    "\n",
    "def create_labels(omega, variables):\n",
    "    labels = []\n",
    "    omega = np.round(omega,2)\n",
    "    for row in omega:\n",
    "        positive_part = ''\n",
    "        negative_part = ''\n",
    "        for i, value in enumerate(row):\n",
    "            if value > 0:\n",
    "                if positive_part == '':\n",
    "                    positive_part = f\"{variables[i]}^{{{value}}}\"\n",
    "                else:\n",
    "                    positive_part += f\" \\\\cdot {variables[i]}^{{{value}}}\"\n",
    "            elif value < 0:\n",
    "                if negative_part == '':\n",
    "                    negative_part = f\"{variables[i]}^{{{-value}}}\"\n",
    "                else:\n",
    "                    negative_part += f\" \\\\cdot {variables[i]}^{{{-value}}}\"\n",
    "        if negative_part == '':\n",
    "            labels.append(f\"${positive_part}$\")\n",
    "        elif positive_part == '':\n",
    "            labels.append(f\"$\\\\frac{{1}}{{{negative_part}}}$\")\n",
    "        else:\n",
    "            labels.append(f\"$\\\\frac{{{positive_part}}}{{{negative_part}}}$\")\n",
    "    return labels\n",
    "\n",
    "Pi_i_lab = create_labels(normalized_a_list, variables_pi_i)\n",
    "Pi_o_lab = create_labels(a_list_o, variables_pi_o)\n",
    "\n",
    "# Print the labels\n",
    "for j, label in enumerate(Pi_i_lab):\n",
    "    print(f'Pi_i_lab[{j}] = {label}')\n",
    "    \n",
    "for j, label in enumerate(Pi_o_lab):\n",
    "    Pi_o_lab[j] = r'$\\frac{u}{u_{\\tau}} \\cdot ' + label[1:]  # Remove the first '$' to merge the LaTeX strings properly\n",
    "\n",
    "# Print Pi_o_lab to verify\n",
    "for j, label in enumerate(Pi_o_lab):\n",
    "    print(f'Pi_o_lab[{j}] = {label}')"
   ]
  },
  {
   "cell_type": "code",
   "execution_count": 11,
   "id": "973e1bcd",
   "metadata": {},
   "outputs": [
    {
     "name": "stdout",
     "output_type": "stream",
     "text": [
      "pi.shape =  (1109, 1)\n",
      "pi_o.shape =  (1109, 1)\n",
      "Y_shape    =  (1109, 1)\n",
      "MI         =  1.2172651406945016\n"
     ]
    }
   ],
   "source": [
    "pi_list   = [calc_pi(a, basis_matrices, X) for a in normalized_a_list]\n",
    "pi        = np.column_stack(pi_list)\n",
    "pi_list_o = [calc_pi(a, basis_matrices, X) for a in modified_a_list_o]\n",
    "pi_o      = np.column_stack(pi_list_o)\n",
    "pi_o      = np.asarray(pi_o)  \n",
    "Y         = np.asarray(Y)     \n",
    "Y_n       = pi_o*Y\n",
    "\n",
    "print('pi.shape = ',pi.shape)\n",
    "print('pi_o.shape = ',pi_o.shape)\n",
    "print('Y_shape    = ',Y.shape)\n",
    "print('MI         = ',KraskovMI1_nats(pi,pi_o*Y,5))"
   ]
  },
  {
   "cell_type": "code",
   "execution_count": 12,
   "id": "923b1430",
   "metadata": {},
   "outputs": [],
   "source": [
    "import matplotlib.pyplot as plt\n",
    "Re_b_values = [9993, 15491, 23978, 9979, 8430, 18224]\n",
    "M_b_values = [1.70, 1.70, 3.00, 4.00, 1.50, 1.50]\n",
    "\n",
    "unique_indices = np.unique(index_data)\n",
    "colors = plt.cm.jet(np.linspace(0, 1, len(unique_indices)))\n"
   ]
  },
  {
   "cell_type": "code",
   "execution_count": 15,
   "id": "11f73a63",
   "metadata": {},
   "outputs": [
    {
     "name": "stderr",
     "output_type": "stream",
     "text": [
      "The PostScript backend does not support transparency; partially transparent artists will be rendered opaque.\n"
     ]
    },
    {
     "data": {
      "image/png": "[encoded data removed]",
      "text/plain": [
       "<Figure size 900x400 with 2 Axes>"
      ]
     },
     "metadata": {},
     "output_type": "display_data"
    }
   ],
   "source": [
    "import matplotlib.pyplot as plt\n",
    "cmap = plt.get_cmap('YlOrBr')\n",
    "plt.rcParams['font.family'] = 'Times New Roman'  # Set the font to Times New Roman\n",
    "plt.rcParams['text.usetex'] = True  # Use LaTeX for all text rendering\n",
    "# Generate 5 colors evenly spaced in the colormap\n",
    "colors = [cmap(i) for i in np.linspace(0.3, 1, 6)]# Create subplots\n",
    "fig, axes = plt.subplots(1, 2, figsize=(9, 4))  # 1 row, 2 columns\n",
    "\n",
    "# First subplot\n",
    "for i, idx in enumerate(unique_indices):\n",
    "    mask = index_data == idx  # Find the points that correspond to the current index\n",
    "    axes[0].semilogx(\n",
    "        X[mask, 0] * X[mask, 5] / (X[mask, 4] / X[mask, 3]),\n",
    "        Y[mask],\n",
    "        '-',\n",
    "        label=f'$Re_b={Re_b_values[i]},~M_b={M_b_values[i]}$',\n",
    "        color=colors[i]\n",
    "    )\n",
    "    axes[0].semilogx(y_plus, U_utau, '--')\n",
    "axes[0].set_xlabel(r'$y^+$', fontsize=25, labelpad=8)\n",
    "axes[0].set_ylabel(r'$u^+$', fontsize=25, labelpad=8)\n",
    "axes[0].tick_params(axis='both', labelsize=25)\n",
    "# axes[0].grid(True)\n",
    "\n",
    "# Second subplot\n",
    "for i, idx in enumerate(unique_indices):\n",
    "    mask = index_data == idx  # Find the points that correspond to the current index\n",
    "    axes[1].semilogx(\n",
    "        pi[mask, 0],\n",
    "        Y_n[mask],\n",
    "        '-',\n",
    "        label=f'$Re_b={Re_b_values[i]},~M_b={M_b_values[i]}$',\n",
    "        color=colors[i]\n",
    "    )\n",
    "    axes[1].semilogx(y_plus, U_utau, '--', linewidth=2, alpha=0.1)\n",
    "axes[1].set_xlabel(r'$\\Pi^*$', fontsize=25, labelpad=8)\n",
    "axes[1].set_ylabel(r'$\\Pi_o^*$', fontsize=25, labelpad=8)\n",
    "axes[1].tick_params(axis='both', labelsize=25)\n",
    "# axes[1].grid(True)\n",
    "\n",
    "# Adjust spacing between subplots\n",
    "plt.subplots_adjust(wspace=0.5)\n",
    "# Collect handles and labels from both subplots\n",
    "handles, labels = [], []\n",
    "for ax in axes:\n",
    "    h, l = ax.get_legend_handles_labels()\n",
    "    handles += h\n",
    "    labels += l\n",
    "\n",
    "# Remove duplicate legend entries\n",
    "unique = dict(zip(labels, handles))  # Use dictionary to ensure uniqueness\n",
    "handles, labels = unique.values(), unique.keys()\n",
    "\n",
    "# Create a shared legend\n",
    "fig.legend(\n",
    "    handles,\n",
    "    labels,\n",
    "    loc='upper center',\n",
    "    fontsize=20,\n",
    "    ncol=2,  # Adjust the number of columns\n",
    "    bbox_to_anchor=(0.5, 1.3),  # Position above the plots\n",
    "    frameon=False\n",
    ")\n",
    "\n",
    "# Save and show the plots\n",
    "plt.savefig('Trans_ch_pipe.png', dpi=300, bbox_inches='tight')\n",
    "plt.savefig('Trans_ch_pipe.eps', dpi=300, bbox_inches='tight',transparent = 'True')\n",
    "plt.show()\n"
   ]
  },
  {
   "cell_type": "code",
   "execution_count": 16,
   "id": "c139c917",
   "metadata": {},
   "outputs": [
    {
     "data": {
      "image/png": "[encoded data removed]",
      "text/plain": [
       "<Figure size 400x200 with 1 Axes>"
      ]
     },
     "metadata": {},
     "output_type": "display_data"
    },
    {
     "name": "stdout",
     "output_type": "stream",
     "text": [
      "[0.15186721041212645]\n"
     ]
    }
   ],
   "source": [
    "# Function to calculate exp(-MI) bound and its uncertainty (UQ)\n",
    "def calculate_bound_and_uq(input_data, output_data, num_trials):\n",
    "    # Compute MI using all the data\n",
    "    mi_full = KraskovMI1_nats(input_data, output_data, 5)\n",
    "    exp_mi_full = np.exp(-mi_full)\n",
    "\n",
    "    exp_mi_half_values = []\n",
    "    for _ in range(num_trials):\n",
    "        # Randomly select half of the data\n",
    "        indices = np.random.choice(input_data.shape[0], size=input_data.shape[0] // 2, replace=False)\n",
    "        input_half = input_data[indices]\n",
    "        output_half = output_data[indices]\n",
    "        # Compute MI for this subset and calculate exp(-MI_half)\n",
    "        mi_half = KraskovMI1_nats(input_half, output_half, 5)\n",
    "        exp_mi_half_values.append(np.exp(-mi_half))\n",
    "\n",
    "    # Calculate the mean of exp(-MI_half)\n",
    "    exp_mi_half_mean = np.mean(exp_mi_half_values)\n",
    "    \n",
    "    # UQ is the absolute difference between exp(-MI_full) and exp_mi_half_mean\n",
    "    uq = abs(exp_mi_full - exp_mi_half_mean)\n",
    "    \n",
    "    return exp_mi_full, uq\n",
    "\n",
    "# Prepare input data\n",
    "input_list = [calc_pi_omega(np.array(omega), X) for omega in normalized_coef_pi_list]\n",
    "input_PI = np.column_stack(input_list)\n",
    "\n",
    "# Initialize lists for results\n",
    "exp_mi_values = []\n",
    "uq_values = []\n",
    "x_labels = []\n",
    "\n",
    "# Number of trials for calculating exp(-MI_half)\n",
    "num_trials = 10  # Adjust for accuracy vs computation time\n",
    "\n",
    "# Check the number of columns in input_PI\n",
    "if input_PI.shape[1] == 1:\n",
    "    # Only one column, calculate and plot only the total MI\n",
    "    exp_mi_full, uq = calculate_bound_and_uq(input_PI, Y, num_trials)\n",
    "    exp_mi_values.append(exp_mi_full)\n",
    "    uq_values.append(uq)\n",
    "    x_labels.append(r\"$\\mathbf{\\Pi^*}$\")\n",
    "else:\n",
    "    # Multiple columns, calculate exp(-I) for each column and the total MI\n",
    "    for j in range(input_PI.shape[1]):\n",
    "        exp_mi_full, uq = calculate_bound_and_uq(input_PI[:, j].reshape(-1, 1), Y, num_trials)\n",
    "        exp_mi_values.append(exp_mi_full)\n",
    "        uq_values.append(uq)\n",
    "        x_labels.append(f\"$\\\\Pi_{j+1}^*$\")\n",
    "    \n",
    "    # Calculate exp(-I) for the entire input_PI and Y\n",
    "    exp_mi_full, uq = calculate_bound_and_uq(input_PI, Y, num_trials)\n",
    "    exp_mi_values.append(exp_mi_full)\n",
    "    uq_values.append(uq)\n",
    "    x_labels.append(r\"$[\\Pi_1^*,\\Pi_2^*]$\")\n",
    "\n",
    "# Plotting the results\n",
    "plt.figure(figsize=(4, 2))\n",
    "x_labels[0] = r\"$\\Pi^{*}$\"\n",
    "\n",
    "plt.rcParams['font.family'] = 'Times New Roman'  # Set the font to Times New Roman\n",
    "plt.rcParams['text.usetex'] = True  # Use LaTeX for all text rendering\n",
    "plt.gca().spines['top'].set_linewidth(1.5)\n",
    "plt.gca().spines['bottom'].set_linewidth(1.5)\n",
    "plt.gca().spines['left'].set_linewidth(1.5)\n",
    "plt.gca().spines['right'].set_linewidth(1.5)\n",
    "\n",
    "# Use uq_values as the error bars\n",
    "plt.bar(x_labels, exp_mi_values, yerr=uq_values, capsize=5, edgecolor='black',color = 'red')\n",
    "plt.xticks(fontsize=20)\n",
    "plt.yticks(fontsize=20)\n",
    "plt.ylabel(r'$\\tilde{\\epsilon}_{L B}$', fontsize=25, labelpad=15)\n",
    "plt.ylim([0, 1])\n",
    "plt.savefig('Velocity_trans_rank.eps', dpi=300, bbox_inches='tight',transparent = 'True')\n",
    "plt.show()\n",
    "print(exp_mi_values)"
   ]
  },
  {
   "cell_type": "code",
   "execution_count": null,
   "id": "7e9e1c90",
   "metadata": {},
   "outputs": [],
   "source": []
  }
 ],
 "metadata": {
  "kernelspec": {
   "display_name": "Python 3 (ipykernel)",
   "language": "python",
   "name": "python3"
  },
  "language_info": {
   "codemirror_mode": {
    "name": "ipython",
    "version": 3
   },
   "file_extension": ".py",
   "mimetype": "text/x-python",
   "name": "python",
   "nbconvert_exporter": "python",
   "pygments_lexer": "ipython3",
   "version": "3.10.7"
  }
 },
 "nbformat": 4,
 "nbformat_minor": 5
}
