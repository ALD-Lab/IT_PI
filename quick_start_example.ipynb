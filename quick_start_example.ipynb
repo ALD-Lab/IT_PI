{
 "cells": [
  {
   "cell_type": "code",
   "execution_count": 1,
   "id": "9685124d",
   "metadata": {},
   "outputs": [],
   "source": [
    "# import IT_PI is a module\n",
    "import IT_PI\n",
    "from scipy.special import erf\n",
    "import numpy as np"
   ]
  },
  {
   "cell_type": "code",
   "execution_count": 2,
   "id": "d73d35de",
   "metadata": {},
   "outputs": [],
   "source": [
    "def velocity_profile(y, nu, U, t):\n",
    "    return U * (1 - erf(y / (2 * np.sqrt(nu * t))))\n",
    "\n",
    "# Generate synthetic dataset\n",
    "y_vals = np.linspace(0, 1, 20)\n",
    "t_vals = np.linspace(5, 10, 20)\n",
    "U = np.random.uniform(0.5, 1.0, 5)\n",
    "nu = np.random.uniform(1e-3, 1e-2, 5)\n",
    "u_array = []\n",
    "params = []\n",
    "\n",
    "for u0, n0 in zip(U, nu):\n",
    "    for y in y_vals:\n",
    "        for t in t_vals:\n",
    "            u_array.append(velocity_profile(y, n0, u0, t))\n",
    "            params.append([u0, y, t, n0])\n",
    "u_array = np.array(u_array).reshape(-1, 1)\n",
    "params = np.array(params)"
   ]
  },
  {
   "cell_type": "code",
   "execution_count": 3,
   "id": "827aaa47",
   "metadata": {},
   "outputs": [],
   "source": [
    "# Define inputs and outputs\n",
    "Y = u_array / params[:, 0].reshape(-1, 1)  # Output Pi_o = u/U\n",
    "X = params                                 # Dimensional input list q\n",
    "variables = ['U', 'y', 't', '\\\\nu']        # Variable names\n",
    "D_in = np.matrix('1 1 0 2; -1 0 1 -1')     # Dimension matrix\n",
    "num_input = 1\n"
   ]
  },
  {
   "cell_type": "code",
   "execution_count": 4,
   "id": "7f0f83d6",
   "metadata": {},
   "outputs": [
    {
     "name": "stdout",
     "output_type": "stream",
     "text": [
      "Rank of D_in: 2\n",
      "D_in matrix:\n",
      " [[ 1  1  0  2]\n",
      " [-1  0  1 -1]]\n",
      "Basis vectors:\n",
      "matrix([[-1.,  1., -1.,  0.],\n",
      "        [ 1.,  1.,  0., -1.]])\n",
      "------------------------------------------------------------\n",
      "num of parameters: 2\n",
      "\n",
      "Using estimator: 'kraskov' with hyperparameters: {'k': 5}\n",
      "\n",
      "(150_w,300)-aCMA-ES (mu_w=78.0,w_1=3%) in dimension 2 (seed=42, Mon Jul 14 12:59:31 2025)\n",
      "Iterat #Fevals   function value  axis ratio  sigma  min&max std  t[m:s]\n",
      "    1    300 -2.827282858421731e+00 1.0e+00 7.68e-01  5e-01  7e-01 0:00.9\n",
      "    2    600 -2.928039452764305e+00 2.0e+00 8.38e-01  3e-01  5e-01 0:01.9\n",
      "    3    900 -3.356550234238555e+00 4.1e+00 9.34e-01  2e-01  3e-01 0:02.9\n",
      "    6   1800 -3.436320622681203e+00 1.2e+01 1.38e+00  8e-02  8e-02 0:06.2\n",
      "   10   3000 -3.592994469256992e+00 4.9e+01 2.82e+00  3e-02  3e-02 0:10.5\n",
      "   15   4500 -3.597974374995223e+00 1.8e+02 3.05e+00  3e-03  3e-03 0:15.8\n",
      "   21   6300 -3.598087413740079e+00 2.5e+02 4.94e+00  6e-04  6e-04 0:22.0\n",
      "   26   7800 -3.598234504731816e+00 1.4e+02 7.01e+00  8e-05  8e-05 0:27.0\n",
      "termination on tolx=0.0001\n",
      "final/bestever f-value = -3.598235e+00 -3.598278e+00 after 7800/7474 evaluations\n",
      "incumbent solution: [0.07384455, 0.07379985]\n",
      "std deviation: [7.92705322e-05, 7.92589865e-05]\n",
      "Optimized_params: [0.07380526 0.07376054]\n",
      "Optimized_MI: -3.598277865460104\n",
      "------------------------------------------------------------\n",
      "Coef_pi: [[-3.03094537e-04  1.00000000e+00 -5.00151547e-01 -4.99848453e-01]]\n",
      "Optimal_pi_lab[0] = $\\frac{y^{1.0}}{t^{0.5} \\cdot \\nu^{0.5}}$\n"
     ]
    }
   ],
   "source": [
    "# Run IT_PI\n",
    "results = IT_PI.main(\n",
    "    X,\n",
    "    Y,\n",
    "    D_in,\n",
    "    variables=variables,\n",
    "    num_input=num_input,\n",
    "    estimator=\"kraskov\",\n",
    "    estimator_params={\"k\": 5},\n",
    "    seed=42\n",
    ")"
   ]
  },
  {
   "cell_type": "code",
   "execution_count": 5,
   "id": "7f73aa69",
   "metadata": {},
   "outputs": [
    {
     "name": "stdout",
     "output_type": "stream",
     "text": [
      "\n",
      "Optimal dimensionless variable(s): ['$\\\\frac{y^{1.0}}{t^{0.5} \\\\cdot \\\\nu^{0.5}}$']\n",
      "Irreducible error: [0.09503666218048899]\n",
      "Uncertainty: [0.05489068879854224]\n"
     ]
    }
   ],
   "source": [
    "# Display results\n",
    "print(\"\\nOptimal dimensionless variable(s):\", results[\"labels\"])\n",
    "print(\"Irreducible error:\", results[\"irreducible_error\"])\n",
    "print(\"Uncertainty:\", results[\"uncertainty\"])"
   ]
  },
  {
   "cell_type": "markdown",
   "id": "cb8f9b3d",
   "metadata": {},
   "source": []
  }
 ],
 "metadata": {
  "kernelspec": {
   "display_name": "IT_PI",
   "language": "python",
   "name": "python3"
  },
  "language_info": {
   "codemirror_mode": {
    "name": "ipython",
    "version": 3
   },
   "file_extension": ".py",
   "mimetype": "text/x-python",
   "name": "python",
   "nbconvert_exporter": "python",
   "pygments_lexer": "ipython3",
   "version": "3.8.20"
  }
 },
 "nbformat": 4,
 "nbformat_minor": 5
}
