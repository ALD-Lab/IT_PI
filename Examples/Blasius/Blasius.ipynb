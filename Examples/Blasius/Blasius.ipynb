{
 "cells": [
  {
   "cell_type": "code",
   "execution_count": 1,
   "id": "391c8c38",
   "metadata": {},
   "outputs": [],
   "source": [
    "import numpy as np\n",
    "import numpy.random as rng\n",
    "from scipy.integrate import odeint\n",
    "from scipy.optimize import minimize, root\n",
    "import matplotlib.pyplot as plt\n",
    "\n",
    "import sys\n",
    "import os\n",
    "current_notebook_dir = os.getcwd()\n",
    "# Replace with the path to your IT_PI.py function\n",
    "project_root_dir = os.path.join(current_notebook_dir, '..', '..')\n",
    "it_pi_module_dir = project_root_dir\n",
    "sys.path.append(it_pi_module_dir)\n",
    "import IT_PI\n",
    "from numpy.linalg import inv, matrix_rank\n",
    "from pprint import pprint\n",
    "plt.rcParams['font.family'] = 'Times New Roman'  # Set the font to Times New Roman\n",
    "plt.rcParams['text.usetex'] = True "
   ]
  },
  {
   "cell_type": "code",
   "execution_count": 2,
   "id": "8c6fcab6",
   "metadata": {},
   "outputs": [
    {
     "data": {
      "image/png": "[encoded data removed]",
      "text/plain": [
       "<Figure size 600x200 with 1 Axes>"
      ]
     },
     "metadata": {},
     "output_type": "display_data"
    }
   ],
   "source": [
    "##Generate the data\n",
    "eta_inf = 10;  # Arbitrary \"infinite\" upper limit for domain\n",
    "d_eta = 0.01;   # Step size\n",
    "eta = np.arange(0, eta_inf, d_eta)\n",
    "\n",
    "F_init = [0, 0, 0] # Initial guess for unknown initial condition\n",
    "def blasius_rhs(f):\n",
    "    \"\"\"RHS of Blasius equation recast as first order nonlinear ODE\n",
    "    f[0] = f\n",
    "    f[1] = f'\n",
    "    f[2] = f''\n",
    "    \"\"\"\n",
    "    return np.array([f[1], f[2], -f[0]*f[2]/2])\n",
    "\n",
    "def bc_fn(f0):\n",
    "    \"\"\"Solve with unknown initial condition as guess and evaluate at upper boundary\"\"\"\n",
    "    global eta\n",
    "    f = odeint(lambda f, t: blasius_rhs(f), f0, eta)\n",
    "    # return discrepancy between upper boundary and desired f[2] = 1\n",
    "    return [f0[0], f0[1], f[-1, 1] - 1]\n",
    "# Solve root-finding problem for unknown initial condition\n",
    "opt_res = root(bc_fn, F_init, tol=1e-4)\n",
    "F0 = [0, 0, opt_res.x[2]]\n",
    "\n",
    "# Evaluate with resulting initial conditions\n",
    "f = odeint(lambda y, t: blasius_rhs(y), F0, eta)\n",
    "x = np.linspace(1e-3, 1e-1, 100)\n",
    "nu = 1e-6       # Viscosity of water near room temperature  (m^2/s)\n",
    "U_inf = 0.01    # m/s\n",
    "\n",
    "Re = (U_inf/nu)*x\n",
    "delta = 1.72 * np.sqrt(x*nu/U_inf)\n",
    "\n",
    "plt.figure(figsize=(6, 2))\n",
    "plt.plot(x, delta)\n",
    "plt.grid()\n",
    "plt.xlabel('$x$')\n",
    "plt.ylabel(r'$\\delta$')\n",
    "\n",
    "y = np.linspace(1e-4, 2*max(delta), 100)\n",
    "\n",
    "yy, xx = np.meshgrid(y, x)\n",
    "\n",
    "u = np.zeros([len(x), len(y)])\n",
    "v = np.zeros(u.shape)\n",
    "\n",
    "eta = yy*np.sqrt(U_inf/(xx*nu))  # Exact value of eta\n",
    "\n",
    "for i in range(len(x)):\n",
    "    f = odeint(lambda y, t: blasius_rhs(y), F0, eta[i, :])\n",
    "    u[i, :] = U_inf * f[:, 1]\n",
    "    v[i, :] = (0.5*U_inf/np.sqrt(Re[i])) * (eta[i, :]*f[:, 1] - f[:, 0])"
   ]
  },
  {
   "cell_type": "code",
   "execution_count": 3,
   "id": "331197a5",
   "metadata": {},
   "outputs": [
    {
     "data": {
      "text/plain": [
       "Text(0, 0.5, '$y$')"
      ]
     },
     "execution_count": 3,
     "metadata": {},
     "output_type": "execute_result"
    },
    {
     "data": {
      "image/png": "[encoded data removed]",
      "text/plain": [
       "<Figure size 600x200 with 1 Axes>"
      ]
     },
     "metadata": {},
     "output_type": "display_data"
    }
   ],
   "source": [
    "plt.figure(figsize=(6, 2))\n",
    "plt.pcolor(x, y, u.T, shading='auto', cmap='bone')\n",
    "plt.plot(x, delta, c='w')\n",
    "plt.xlabel(\"$x$\")\n",
    "plt.ylabel(\"$y$\")"
   ]
  },
  {
   "cell_type": "code",
   "execution_count": 4,
   "id": "078d4ea4",
   "metadata": {},
   "outputs": [],
   "source": [
    "q = np.vstack([u.flatten()/U_inf, v.flatten()/U_inf]).T\n",
    "# All parameters\n",
    "p = np.vstack([np.full(u.shape, U_inf).flatten(),\n",
    "               np.full(u.shape, nu).flatten(),xx.flatten(),\n",
    "               yy.flatten()]).T\n"
   ]
  },
  {
   "cell_type": "code",
   "execution_count": 5,
   "id": "23487fd9",
   "metadata": {},
   "outputs": [],
   "source": [
    "Y                = q[:,0]\n",
    "Y = Y.reshape(-1, 1)\n",
    "X                = p\n",
    "variables_tauw   = [ 'U','\\\\nu','x','y'];                       #Define variable name\n",
    "D_in             = np.matrix(' 1 2 1 1; -1 -1 0 0')                           #Define D_in matrix \n",
    "num_input        = 1\n"
   ]
  },
  {
   "cell_type": "code",
   "execution_count": 6,
   "id": "e8f8b3c2",
   "metadata": {},
   "outputs": [
    {
     "name": "stdout",
     "output_type": "stream",
     "text": [
      "Rank of D_in: 2\n",
      "D_in matrix:\n",
      " [[ 1  2  1  1]\n",
      " [-1 -1  0  0]]\n",
      "Basis vectors:\n",
      "matrix([[-1.,  1., -1.,  0.],\n",
      "        [-1.,  1.,  0., -1.]])\n"
     ]
    }
   ],
   "source": [
    "print(\"Rank of D_in:\", matrix_rank(D_in))\n",
    "print(\"D_in matrix:\\n\", D_in)\n",
    "num_rows          = np.shape(D_in)[0]\n",
    "num_cols          = np.shape(D_in)[1]\n",
    "# Function to calculate basis matrices\n",
    "\n",
    "# Generate basis matrices\n",
    "num_basis        = D_in.shape[1] -matrix_rank(D_in)\n",
    "basis_matrices   = IT_PI.calc_basis(D_in, num_basis)\n",
    "print(\"Basis vectors:\")\n",
    "pprint(basis_matrices)"
   ]
  },
  {
   "cell_type": "code",
   "execution_count": 7,
   "id": "59c8bcc9",
   "metadata": {},
   "outputs": [
    {
     "name": "stdout",
     "output_type": "stream",
     "text": [
      "------------------------------------------------------------\n",
      "num of parameters: 2\n",
      "\n",
      "Using estimator: 'binning' with hyperparameters: {'num_bins': 60}\n",
      "\n",
      "(150_w,300)-aCMA-ES (mu_w=78.0,w_1=3%) in dimension 2 (seed=42, Sun Jul 27 15:32:42 2025)\n",
      "Iterat #Fevals   function value  axis ratio  sigma  min&max std  t[m:s]\n",
      "    1    300 -2.654255729820969e+00 1.0e+00 5.73e-01  3e-01  6e-01 0:00.5\n",
      "    2    600 -2.742721603884381e+00 2.4e+00 5.81e-01  3e-01  6e-01 0:00.9\n",
      "    3    900 -2.804042518946249e+00 8.1e+00 6.59e-01  2e-01  5e-01 0:01.4\n",
      "    9   2700 -2.844925197055926e+00 5.1e+01 1.25e+00  3e-02  7e-02 0:04.5\n",
      "   17   5100 -2.854241275069175e+00 1.9e+02 1.35e+00  2e-02  4e-02 0:08.5\n",
      "   27   8100 -2.847159991481758e+00 4.3e+01 1.33e+00  2e-03  4e-03 0:13.6\n",
      "   39  11700 -2.848595536506156e+00 1.3e+01 2.92e+00  8e-05  3e-04 0:19.7\n",
      "   53  15900 -2.848897200317003e+00 3.0e+01 8.04e+00  2e-06  6e-06 0:27.1\n",
      "   57  17100 -2.848879036338623e+00 5.1e+01 7.17e+00  1e-06  4e-06 0:29.1\n",
      "termination on tolflatfitness=1\n",
      "final/bestever f-value = -2.848879e+00 -2.857723e+00 after 17100/5328 evaluations\n",
      "incumbent solution: [ 0.07115734, -0.14654061]\n",
      "std deviation: [1.10804192e-06, 4.20316546e-06]\n",
      "Optimized_params: [ 0.04627904 -0.09502517]\n",
      "Optimized_MI: -2.8577232092800218\n",
      "------------------------------------------------------------\n",
      "coef_pi: [[ 0.51298129 -0.51298129 -0.48701871  1.        ]]\n"
     ]
    }
   ],
   "source": [
    "# Run dimensionless learning\n",
    "results = IT_PI.main(\n",
    "    X,\n",
    "    Y.reshape(-1, 1),\n",
    "    basis_matrices,\n",
    "    num_input=num_input,\n",
    "    estimator=\"binning\",\n",
    "    estimator_params={\"num_bins\": 60},\n",
    "    seed=42\n",
    ")\n",
    "\n",
    "\n",
    "input_PI = results[\"input_PI\"]\n",
    "epsilon  = results[\"irreducible_error\"]\n",
    "uq       = results[\"uncertainty\"]"
   ]
  },
  {
   "cell_type": "code",
   "execution_count": 8,
   "id": "ce84fa92",
   "metadata": {},
   "outputs": [
    {
     "data": {
      "image/png": "[encoded data removed]",
      "text/plain": [
       "<Figure size 400x400 with 1 Axes>"
      ]
     },
     "metadata": {},
     "output_type": "display_data"
    }
   ],
   "source": [
    "output_PI = results[\"output_PI\"]\n",
    "IT_PI.plot_scatter(input_PI,output_PI)"
   ]
  }
 ],
 "metadata": {
  "kernelspec": {
   "display_name": "IT_PI",
   "language": "python",
   "name": "python3"
  },
  "language_info": {
   "codemirror_mode": {
    "name": "ipython",
    "version": 3
   },
   "file_extension": ".py",
   "mimetype": "text/x-python",
   "name": "python",
   "nbconvert_exporter": "python",
   "pygments_lexer": "ipython3",
   "version": "3.8.20"
  }
 },
 "nbformat": 4,
 "nbformat_minor": 5
}
