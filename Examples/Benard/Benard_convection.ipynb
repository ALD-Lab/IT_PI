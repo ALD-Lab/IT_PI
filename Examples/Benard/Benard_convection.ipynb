{
 "cells": [
  {
   "cell_type": "code",
   "execution_count": 1,
   "id": "cabb1642",
   "metadata": {},
   "outputs": [],
   "source": [
    "import numpy as np\n",
    "import sys\n",
    "import os\n",
    "current_notebook_dir = os.getcwd()\n",
    "# Replace with the path to your IT_PI.py function\n",
    "project_root_dir = os.path.join(current_notebook_dir, '..', '..')\n",
    "it_pi_module_dir = project_root_dir\n",
    "sys.path.append(it_pi_module_dir)\n",
    "import IT_PI\n",
    "import matplotlib.pyplot as plt\n",
    "from numpy.linalg import inv, matrix_rank\n",
    "from pprint import pprint\n",
    "import pandas as pd\n",
    "plt.rcParams['font.family'] = 'Times New Roman'  # Set the font to Times New Roman\n",
    "plt.rcParams['text.usetex'] = True "
   ]
  },
  {
   "cell_type": "code",
   "execution_count": 2,
   "id": "5363c8b2",
   "metadata": {},
   "outputs": [],
   "source": [
    "df = pd.read_csv(\"dataset_rb.csv\")\n",
    "data = df.iloc[:, 2:12].to_numpy()\n",
    "\n",
    "Nu = (data[:, 0] * data[:, 1]) / (data[:, 3] * data[:, 2])  # Nusselt number\n",
    "Y  = Nu\n",
    "X  = data[:, [1, 2, 3, 4, 5, 6, 7]] \n",
    "Ra = (X[:, 3] * X[:, 4] * X[:, 1] * X[:, 0]**3) / (X[:, 5] * X[:, 6])  # Rayleigh number\n",
    "\n",
    "variables   = ['h','\\\\delta_T', '\\\\lambda','g','\\\\alpha','\\\\nu','\\\\kappa'];                       #Define variable name\n",
    "D_in             = np.matrix('1 0 1 1 0 2 2;0 0 -3 -2 0 -1 -1; 0 0 1 0 0 0 0; 0 1 -1 0 -1 0 0')                           #Define D_in matrix \n",
    "num_input        = 1\n"
   ]
  },
  {
   "cell_type": "code",
   "execution_count": 3,
   "id": "aa6717ea",
   "metadata": {},
   "outputs": [
    {
     "name": "stdout",
     "output_type": "stream",
     "text": [
      "Rank of D_in: 4\n",
      "D_in matrix:\n",
      " [[ 1  0  1  1  0  2  2]\n",
      " [ 0  0 -3 -2  0 -1 -1]\n",
      " [ 0  0  1  0  0  0  0]\n",
      " [ 0  1 -1  0 -1  0  0]]\n",
      "Basis vectors:\n",
      "matrix([[ 0,  0,  0,  0,  0,  1, -1],\n",
      "        [ 0,  1,  0,  0,  1,  0,  0],\n",
      "        [ 3,  0,  0,  1,  0, -2,  0]])\n"
     ]
    }
   ],
   "source": [
    "print(\"Rank of D_in:\", matrix_rank(D_in))\n",
    "print(\"D_in matrix:\\n\", D_in)\n",
    "num_rows          = np.shape(D_in)[0]\n",
    "num_cols          = np.shape(D_in)[1]\n",
    "# Function to calculate basis matrices\n",
    "\n",
    "# Generate basis matrices\n",
    "num_basis        = D_in.shape[1] -matrix_rank(D_in)\n",
    "basis_matrices   = IT_PI.calc_basis(D_in, num_basis)\n",
    "basis_matrices   = np.matrix('0 0 0 0 0 1 -1;0 1 0 0 1 0 0;3 0 0 1 0 -2 0')\n",
    "print(\"Basis vectors:\")\n",
    "pprint(basis_matrices)"
   ]
  },
  {
   "cell_type": "code",
   "execution_count": 4,
   "id": "f2b46d8d",
   "metadata": {},
   "outputs": [
    {
     "name": "stdout",
     "output_type": "stream",
     "text": [
      "------------------------------------------------------------\n",
      "num of parameters: 3\n",
      "\n",
      "Using estimator: 'binning' with hyperparameters: {'num_bins': 30}\n",
      "\n",
      "(150_w,300)-aCMA-ES (mu_w=78.0,w_1=3%) in dimension 3 (seed=42, Sun Jul 27 15:30:18 2025)\n",
      "Iterat #Fevals   function value  axis ratio  sigma  min&max std  t[m:s]\n",
      "    1    300 -1.860250115319980e+00 1.0e+00 6.86e-01  5e-01  6e-01 0:00.1\n",
      "    2    600 -2.087947144504867e+00 2.1e+00 7.32e-01  3e-01  3e-01 0:00.1\n",
      "    3    900 -2.112812281990455e+00 2.8e+00 7.35e-01  1e-01  2e-01 0:00.2\n",
      "   49  14700 -2.223603737343460e+00 4.1e+00 5.43e+00  1e-04  3e-04 0:02.8\n",
      "termination on tolflatfitness=1\n",
      "final/bestever f-value = -2.223604e+00 -2.225425e+00 after 14700/11913 evaluations\n",
      "incumbent solution: [0.19265864, 0.19912418, 0.18125247]\n",
      "std deviation: [0.00013675, 0.00011683, 0.00027325]\n",
      "Optimized_params: [0.19147416 0.19984324 0.18450925]\n",
      "Optimized_MI: -2.225425423996337\n",
      "------------------------------------------------------------\n",
      "coef_pi: [[ 1.          0.36103563  0.          0.33333333  0.36103563 -0.32075056\n",
      "  -0.34591611]]\n"
     ]
    }
   ],
   "source": [
    "# Run dimensionless learning\n",
    "results = IT_PI.main(\n",
    "    X,\n",
    "    Y.reshape(-1, 1),\n",
    "    basis_matrices,\n",
    "    num_input=num_input,\n",
    "    estimator=\"binning\",\n",
    "    estimator_params={\"num_bins\": 30},\n",
    "    seed=42\n",
    ")\n",
    "\n",
    "\n",
    "input_PI = results[\"input_PI\"]\n",
    "epsilon  = results[\"irreducible_error\"]\n",
    "uq       = results[\"uncertainty\"]"
   ]
  },
  {
   "cell_type": "code",
   "execution_count": 5,
   "id": "b712df75",
   "metadata": {},
   "outputs": [
    {
     "name": "stdout",
     "output_type": "stream",
     "text": [
      "Optimal_pi_lab[0] = $\\frac{h^{1.0} \\cdot \\delta_T^{0.36} \\cdot g^{0.33} \\cdot \\alpha^{0.36}}{\\nu^{0.32} \\cdot \\kappa^{0.35}}$\n"
     ]
    }
   ],
   "source": [
    "coef_pi_list     = results[\"input_coef\"]\n",
    "optimal_pi_lab   = IT_PI.create_labels(np.array(coef_pi_list).reshape(-1, len(variables)), variables)\n",
    "for j, label in enumerate(optimal_pi_lab):\n",
    "    print(f'Optimal_pi_lab[{j}] = {label}')\n",
    "    \n",
    "input_PI = results[\"input_PI\"]\n",
    "output_PI = results[\"output_PI\"]"
   ]
  },
  {
   "cell_type": "code",
   "execution_count": 6,
   "id": "c7671e18",
   "metadata": {},
   "outputs": [
    {
     "data": {
      "text/plain": [
       "(array([1.e-02, 1.e-01, 1.e+00, 1.e+01, 1.e+02, 1.e+03, 1.e+04, 1.e+05,\n",
       "        1.e+06]),\n",
       " [Text(0, 0.01, '$\\\\mathdefault{10^{-2}}$'),\n",
       "  Text(0, 0.1, '$\\\\mathdefault{10^{-1}}$'),\n",
       "  Text(0, 1.0, '$\\\\mathdefault{10^{0}}$'),\n",
       "  Text(0, 10.0, '$\\\\mathdefault{10^{1}}$'),\n",
       "  Text(0, 100.0, '$\\\\mathdefault{10^{2}}$'),\n",
       "  Text(0, 1000.0, '$\\\\mathdefault{10^{3}}$'),\n",
       "  Text(0, 10000.0, '$\\\\mathdefault{10^{4}}$'),\n",
       "  Text(0, 100000.0, '$\\\\mathdefault{10^{5}}$'),\n",
       "  Text(0, 1000000.0, '$\\\\mathdefault{10^{6}}$')])"
      ]
     },
     "execution_count": 6,
     "metadata": {},
     "output_type": "execute_result"
    },
    {
     "data": {
      "image/png": "[encoded data removed]",
      "text/plain": [
       "<Figure size 400x400 with 1 Axes>"
      ]
     },
     "metadata": {},
     "output_type": "display_data"
    }
   ],
   "source": [
    "fig = plt.figure(figsize=(4, 4))\n",
    "plt.scatter(input_PI[:,0],output_PI)\n",
    "plt.xlabel(r\" $\\Pi^* $\", fontsize=25, labelpad=10)  \n",
    "plt.ylabel(r\" $\\Pi_o^*$\", fontsize=25, labelpad=10)\n",
    "plt.xscale(\"log\")\n",
    "plt.yscale(\"log\")\n",
    "plt.xticks(fontsize=25)\n",
    "plt.yticks(fontsize=25)\n",
    "\n",
    "#fig.savefig(\"Benard.eps\", format=\"eps\", bbox_inches=\"tight\",transparent = \"True\")\n",
    "\n"
   ]
  }
 ],
 "metadata": {
  "kernelspec": {
   "display_name": "IT_PI",
   "language": "python",
   "name": "python3"
  },
  "language_info": {
   "codemirror_mode": {
    "name": "ipython",
    "version": 3
   },
   "file_extension": ".py",
   "mimetype": "text/x-python",
   "name": "python",
   "nbconvert_exporter": "python",
   "pygments_lexer": "ipython3",
   "version": "3.8.20"
  }
 },
 "nbformat": 4,
 "nbformat_minor": 5
}
