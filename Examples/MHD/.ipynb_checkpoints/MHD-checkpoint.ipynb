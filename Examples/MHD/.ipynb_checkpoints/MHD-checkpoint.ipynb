{
 "cells": [
  {
   "cell_type": "code",
   "execution_count": 1,
   "metadata": {},
   "outputs": [],
   "source": [
    "%matplotlib inline\n",
    "import numpy as np\n",
    "import matplotlib.pyplot as plt\n",
    "import pandas as pn\n",
    "import numpy as np\n",
    "from scipy.special import erf\n",
    "import matplotlib.pyplot as plt\n",
    "import pandas as pd\n",
    "from numpy.linalg import matrix_rank, inv\n",
    "from pprint import pprint\n",
    "import cma\n",
    "import warnings\n",
    "import random\n",
    "import scipy.special as scis\n",
    "import scipy.spatial as scispa\n",
    "from cma import CMAEvolutionStrategy\n",
    "#%matplotlib notebook\n"
   ]
  },
  {
   "cell_type": "code",
   "execution_count": 2,
   "metadata": {},
   "outputs": [
    {
     "name": "stdout",
     "output_type": "stream",
     "text": [
      "Data shape: (483, 6)\n",
      "input_shape:  (483, 6)\n"
     ]
    }
   ],
   "source": [
    "## Load the dataset, handling invalid entries\n",
    "try:\n",
    "    data = np.genfromtxt(\n",
    "        \"MHD_Generator_Data_Uavg.csv\",\n",
    "        delimiter=',',\n",
    "        skip_header=1,\n",
    "        usecols=(1,2,3,4,5,6),\n",
    "        dtype=float,\n",
    "        invalid_raise=False  # Ignore rows with invalid data\n",
    "    )\n",
    "except ValueError as e:\n",
    "    print(\"Error loading data:\", e)\n",
    "    data = None\n",
    "\n",
    "# Check if the data loaded successfully\n",
    "if data is not None:\n",
    "    print(f\"Data shape: {data.shape}\")\n",
    "else:\n",
    "    print(\"Please check the CSV file for invalid entries.\")\n",
    "Xu = data[:, :5]\n",
    "u  = data[:, 5]\n",
    "mu    = (Xu[:,0])\n",
    "rho   =  (Xu[:,1])\n",
    "dp_dx =  (Xu[:,2])\n",
    "eta   =  (Xu[:,3])\n",
    "B     =  (Xu[:,4])\n",
    "l     = np.ones(mu.shape)\n",
    "\n",
    "X         = np.column_stack((l,mu,rho,eta,dp_dx,B))\n",
    "Y         = u*rho*l/mu\n",
    "print('input_shape: ', X.shape)\n",
    "num_input = 1\n",
    "variables_tauw   = ['l','\\\\mu', '\\\\rho','\\\\eta','dp_dx','B'];                       #Define variable name\n"
   ]
  },
  {
   "cell_type": "markdown",
   "metadata": {},
   "source": [
    "# Load the dataset, handling invalid entries\n",
    "try:\n",
    "    data = np.genfromtxt(\n",
    "        \"MHD_Generator_Data_Bind.csv\",\n",
    "        delimiter=',',\n",
    "        skip_header=1,\n",
    "        usecols=(1,2,3,4,5,6),\n",
    "        dtype=float,\n",
    "        invalid_raise=False  # Ignore rows with invalid data\n",
    "    )\n",
    "except ValueError as e:\n",
    "    print(\"Error loading data:\", e)\n",
    "    data = None\n",
    "\n",
    "# Check if the data loaded successfully\n",
    "if data is not None:\n",
    "    print(f\"Data shape: {data.shape}\")\n",
    "else:\n",
    "    print(\"Please check the CSV file for invalid entries.\")\n",
    "Xb = data[:, :5]\n",
    "B  = data[:, 5]\n",
    "\n",
    "mu    = (Xb[:,0])\n",
    "rho   =  (Xb[:,1])\n",
    "dp_dx =  (Xb[:,2])\n",
    "eta   =  (Xb[:,3])\n",
    "B0     =  (Xb[:,4])\n",
    "l     = np.ones(mu.shape)\n",
    "\n",
    "X         = np.column_stack((l,mu,rho,eta,dp_dx,B0))\n",
    "Y         = B*l/np.sqrt(eta*mu)\n",
    "print('input_shape: ', X.shape)\n",
    "num_input = 2\n",
    "variables_tauw   = ['l','\\\\mu', '\\\\rho','\\\\eta','dp_dx','B0'];                       #Define variable name\n"
   ]
  },
  {
   "cell_type": "code",
   "execution_count": 3,
   "metadata": {},
   "outputs": [
    {
     "name": "stdout",
     "output_type": "stream",
     "text": [
      "Rank of D_in: 4\n",
      "D_in matrix:\n",
      " [[ 1 -1 -3  3 -2  0]\n",
      " [ 0 -1  0 -3 -2 -2]\n",
      " [ 0  1  1  1  1  1]\n",
      " [ 0  0  0 -2  0 -1]]\n",
      "[[ 1 -1 -3  3]\n",
      " [ 0 -1  0 -3]\n",
      " [ 0  1  1  1]\n",
      " [ 0  0  0 -2]]\n",
      "Basis vectors:\n",
      "matrix([[-3. ,  2. , -1. ,  0. , -1. ,  0. ],\n",
      "        [-1. ,  0.5,  0. ,  0.5,  0. , -1. ]])\n"
     ]
    }
   ],
   "source": [
    "D_in             = np.matrix(' 1 -1 -3 3 -2 0; 0 -1 0 -3 -2  -2; 0 1 1 1 1 1 ;0 0 0 -2 0  -1')                           #Define D_in matrix \n",
    "print(\"Rank of D_in:\", matrix_rank(D_in))\n",
    "print(\"D_in matrix:\\n\", D_in)\n",
    "num_rows          = np.shape(D_in)[0]\n",
    "num_cols          = np.shape(D_in)[1]\n",
    "# Function to calculate basis matrices\n",
    "def calc_basis(D_in, col_range):\n",
    "    num_rows      = np.shape(D_in)[0]\n",
    "    num_cols      = np.shape(D_in)[1]\n",
    "    Din1, Din2    = D_in[:, :num_rows], D_in[:, num_rows:]\n",
    "    basis_matrices = []\n",
    "    print(Din1)\n",
    "    for i in range(col_range):\n",
    "        x2       = np.zeros((col_range, 1))\n",
    "        x2[i, 0] = -1\n",
    "        x1       = -inv(Din1) * Din2 * x2\n",
    "        basis_matrices.append(np.vstack((x1, x2)))\n",
    "    return np.asmatrix(np.array(basis_matrices))\n",
    "# Generate basis matrices\n",
    "num_basis        = D_in.shape[1] -matrix_rank(D_in)\n",
    "basis_matrices   = calc_basis(D_in, num_basis)\n",
    "print(\"Basis vectors:\")\n",
    "pprint(basis_matrices)"
   ]
  },
  {
   "cell_type": "code",
   "execution_count": 4,
   "metadata": {},
   "outputs": [],
   "source": [
    "def calc_pi(c, basis_matrices,X):\n",
    "    coef_pi = np.dot(c, basis_matrices) \n",
    "    pi_mat = np.ones((X.shape[0], 1))\n",
    "    for i in range(coef_pi.shape[1]):\n",
    "        tmp = X[:, i] ** coef_pi[:, i]\n",
    "        pi_mat = np.multiply(pi_mat, tmp.reshape(-1, 1))\n",
    "    return pi_mat\n",
    "def calc_pi_omega(coef_pi, X):\n",
    "    pi_mat = np.ones((X.shape[0], 1))\n",
    "    for i in range(coef_pi.shape[1]):\n",
    "        tmp = X[:, i] ** coef_pi[:, i]\n",
    "        pi_mat = np.multiply(pi_mat, tmp.reshape(-1, 1))\n",
    "        \n",
    "    return pi_mat\n",
    "def MI_d_binning(input, output, num_bins):\n",
    "    #Calculate the mutual information between two matrices X and Y using histograms.\n",
    "    #Fast! But not Accurate! Using it for approximation.\n",
    "    #Parameters:\n",
    "    #X (numpy.ndarray): A matrix with shape (num_samples, num_dimensions)\n",
    "    #Y (numpy.ndarray): A matrix with shape (num_samples, num_dimensions)\n",
    "    #num_bins (int): Number of bins for the histogram\n",
    "    #Returns:\n",
    "    #float: The mutual information between X and Y.\n",
    "    def entropy_bin(X, num_bins):\n",
    "        N, D = X.shape\n",
    "        bins = [num_bins] * D\n",
    "        hist, _ = np.histogramdd(X, bins=bins)\n",
    "        hist = hist / np.sum(hist)  # Normalize to get probabilities\n",
    "        positive_indices = hist > 0\n",
    "        return -np.sum(hist[positive_indices] * np.log(hist[positive_indices]))\n",
    "\n",
    "    mi = entropy_bin(input, num_bins) + entropy_bin(output, num_bins) - entropy_bin(np.hstack([input, output]), num_bins)\n",
    "    return mi\n",
    "\n",
    "def KraskovMI1_nats( x, y, k : int = 1 ):\n",
    "    '''Compute the mutual information using the Kraskov estimator (approach\n",
    "    1 in Kraskov et al. (2004))\n",
    "    Parameters\n",
    "        x:  np.ndarray\n",
    "            [ N, dim_x ] First variable of dimension \"dim_x\" with \"N\" samples\n",
    "            per dimension\n",
    "        y:  np.ndarray\n",
    "            [ N, dim_x ] second variable of dimension \"dim_x\" with \"N\" samples\n",
    "            per dimension\n",
    "        \n",
    "        k:  int\n",
    "            Nearest-neighbor ( >= 1 )\n",
    "    '''\n",
    "\n",
    "    N, dim = x.shape\n",
    "\n",
    "    V = np.hstack([ x, y ])\n",
    "\n",
    "    # Init query tree\n",
    "    kdtree = scispa.KDTree( V )\n",
    "    ei, _ = kdtree.query( V, k + 1, p = np.infty)\n",
    "    # infty norm is gonna give us the maximum distance (x-dir or y-dir)\n",
    "    dM = ei[:,-1]\n",
    "\n",
    "    kdtree_x = scispa.KDTree( x )\n",
    "    kdtree_y = scispa.KDTree( y )\n",
    "\n",
    "    nx = kdtree_x.query_ball_point( x, dM , p = np.infty, return_length = True)\n",
    "    ny = kdtree_y.query_ball_point( y, dM , p = np.infty, return_length = True)\n",
    "\n",
    "    # we do not add + 1 because it is accounted in query_ball_point\n",
    "    ave = ( scis.psi( nx ) + scis.psi( ny ) ).mean()\n",
    "\n",
    "    return scis.psi(k) - ave + scis.psi(N)\n",
    "def MI_input_output(para,basis_matrices,X,Y,num_basis,num_inputs):\n",
    "    with warnings.catch_warnings():\n",
    "        warnings.filterwarnings('error') \n",
    "        a_list = [tuple(para[i*num_basis:(i+1)*num_basis]) for i in range(num_inputs)]\n",
    "        try:\n",
    "            pi_list = [calc_pi(a, basis_matrices, X) for a in a_list]\n",
    "            pi = np.column_stack(pi_list)\n",
    "        except RuntimeWarning:\n",
    "            return random.uniform(1e6, 1e10)  # Return a large positive value in case of RuntimeWarning\n",
    "    if np.any(np.isnan(pi)):\n",
    "        return random.uniform(1e6, 1e10)  # Return a large positive value\n",
    "    \n",
    "    Y = Y.reshape(-1, 1)\n",
    "    MI = MI_d_binning((np.array(pi)), (np.array(Y)), 30)\n",
    "    #MI = KraskovMI1_nats(np.array(pi), np.array(Y), 5)\n",
    "    return -MI\n"
   ]
  },
  {
   "cell_type": "code",
   "execution_count": 5,
   "metadata": {},
   "outputs": [
    {
     "name": "stdout",
     "output_type": "stream",
     "text": [
      "num of paraters: 2\n",
      "(150_w,300)-aCMA-ES (mu_w=78.0,w_1=3%) in dimension 2 (seed=536023, Tue Apr  1 10:45:03 2025)\n",
      "Iterat #Fevals   function value  axis ratio  sigma  min&max std  t[m:s]\n",
      "    1    300 -1.228619085500249e+00 1.0e+00 7.32e-01  3e-01  8e-01 0:00.1\n",
      "    2    600 -1.251221441272056e+00 2.7e+00 9.17e-01  2e-01  6e-01 0:00.2\n",
      "    3    900 -1.257625841552371e+00 3.4e+00 9.09e-01  7e-02  3e-01 0:00.2\n",
      "   32   9600 -1.283937742482714e+00 1.3e+01 2.67e+00  2e-04  6e-04 0:02.5\n",
      "termination on tolfunhist=1e-12\n",
      "final/bestever f-value = -1.283938e+00 -1.284001e+00 after 9600/2200 evaluations\n",
      "incumbent solution: [-0.5869595839669037, -0.0018632248239090201]\n",
      "std deviation: [0.00023143004148769614, 0.0006453880360859169]\n",
      "Optimized_params [-0.6766189  -0.01259969]\n",
      "Optimized_MI -1.2840005262753622\n"
     ]
    }
   ],
   "source": [
    "num_para = num_basis*num_input\n",
    "print('num of paraters:',num_para)\n",
    "lower_bounds = [-2] * num_para  # exponent lower bound\n",
    "upper_bounds = [2] * num_para   # exponent upper bound\n",
    "bounds = [lower_bounds, upper_bounds]\n",
    "options = {\n",
    "    'bounds': bounds,\n",
    "    'maxiter': 50000,  # maximum number of iterations\n",
    "    'tolx': 1e-4,     # tolerance in solution variability\n",
    "    'tolfun': 1e-4,   # tolerance in function value changes\n",
    "    'popsize': 300,\n",
    "}\n",
    "es = CMAEvolutionStrategy([0.1] * num_para, 0.5,options)\n",
    "while not es.stop():\n",
    "    solutions = es.ask()\n",
    "    es.tell(solutions, [MI_input_output(x,basis_matrices,X,Y,num_basis,num_input) for x in solutions])\n",
    "    es.disp()\n",
    "es.result_pretty()\n",
    "optimized_params = es.result.xbest\n",
    "optimized_MI     = es.result.fbest\n",
    "print('Optimized_params',optimized_params)\n",
    "print('Optimized_MI',optimized_MI)"
   ]
  },
  {
   "cell_type": "code",
   "execution_count": 6,
   "metadata": {},
   "outputs": [
    {
     "name": "stdout",
     "output_type": "stream",
     "text": [
      "a_list: [(-0.6766188992496007, -0.012599692648235423)]\n",
      "coef_pi1 [[ 1.   -0.67  0.33 -0.    0.33  0.01]]\n"
     ]
    }
   ],
   "source": [
    "a_list                  = [tuple(optimized_params[i*num_basis:(i+1)*num_basis]) for i in range(num_input)]\n",
    "print('a_list:',a_list)\n",
    "coef_pi_list            = [np.dot(a, basis_matrices) for a in a_list]\n",
    "normalized_coef_pi_list = []\n",
    "for coef_pi in coef_pi_list:\n",
    "    max_abs_value       = np.max(np.abs(coef_pi))\n",
    "    normalized_coef_pi  = coef_pi / max_abs_value\n",
    "    normalized_coef_pi_list.append(np.round(normalized_coef_pi,2))\n",
    "# Print the normalized coef_pi values\n",
    "for i, normalized_coef_pi in enumerate(normalized_coef_pi_list):\n",
    "    print(f'coef_pi{i+1}', normalized_coef_pi)"
   ]
  },
  {
   "cell_type": "code",
   "execution_count": 7,
   "metadata": {},
   "outputs": [
    {
     "name": "stdout",
     "output_type": "stream",
     "text": [
      "tauw_lab[0] = $\\frac{l^{1.0} \\cdot \\rho^{0.33} \\cdot dp_dx^{0.33} \\cdot B^{0.01}}{\\mu^{0.67}}$\n"
     ]
    }
   ],
   "source": [
    "# Initialize labels\n",
    "tauw_lab = []\n",
    "omega_tauw = np.array(normalized_coef_pi_list)\n",
    "omega_tauw = np.array(omega_tauw).reshape(-1, len(variables_tauw))\n",
    "def create_labels(omega, variables):\n",
    "    labels = []\n",
    "    for row in omega:\n",
    "        positive_part = ''\n",
    "        negative_part = ''\n",
    "        for i, value in enumerate(row):\n",
    "            if value > 0:\n",
    "                if positive_part == '':\n",
    "                    positive_part = f\"{variables[i]}^{{{value}}}\"\n",
    "                else:\n",
    "                    positive_part += f\" \\\\cdot {variables[i]}^{{{value}}}\"\n",
    "            elif value < 0:\n",
    "                if negative_part == '':\n",
    "                    negative_part = f\"{variables[i]}^{{{-value}}}\"\n",
    "                else:\n",
    "                    negative_part += f\" \\\\cdot {variables[i]}^{{{-value}}}\"\n",
    "        if negative_part == '':\n",
    "            labels.append(f\"${positive_part}$\")\n",
    "        elif positive_part == '':\n",
    "            labels.append(f\"$\\\\frac{{1}}{{{negative_part}}}$\")\n",
    "        else:\n",
    "            labels.append(f\"$\\\\frac{{{positive_part}}}{{{negative_part}}}$\")\n",
    "    return labels\n",
    "\n",
    "tauw_lab = create_labels(omega_tauw, variables_tauw)\n",
    "# Print the labels\n",
    "for j, label in enumerate(tauw_lab):\n",
    "    print(f'tauw_lab[{j}] = {label}')\n"
   ]
  },
  {
   "cell_type": "code",
   "execution_count": 8,
   "metadata": {},
   "outputs": [],
   "source": [
    "input_list = [calc_pi_omega(np.array(omega), X) for omega in normalized_coef_pi_list]\n",
    "input_PI = np.column_stack(input_list)\n"
   ]
  },
  {
   "cell_type": "code",
   "execution_count": 9,
   "metadata": {},
   "outputs": [
    {
     "data": {
      "image/png": "[encoded data removed]",
      "text/plain": [
       "<Figure size 400x400 with 1 Axes>"
      ]
     },
     "metadata": {},
     "output_type": "display_data"
    }
   ],
   "source": [
    "import matplotlib as mpl\n",
    "from matplotlib import rcParams\n",
    "mpl.rc('text', usetex=True)\n",
    "mpl.rc('font', family='serif')\n",
    "mpl.rc('xtick', labelsize=20)\n",
    "mpl.rc('ytick', labelsize=20)\n",
    "mpl.rc('axes', labelsize=25)\n",
    "mpl.rc('axes', titlesize=25)\n",
    "fig = plt.figure(figsize=(4, 4))\n",
    "plt.scatter(((input_PI)),(Y))\n",
    "plt.xlabel(tauw_lab[0], fontsize=25, labelpad=8)  \n",
    "plt.xlabel(r\" $\\Pi^* $\", fontsize=25, labelpad=8)  \n",
    "plt.ylabel(r\" $\\Pi_{o}^*$\", fontsize=25, labelpad=8)\n",
    "plt.xscale(\"log\")\n",
    "plt.yscale(\"log\")\n",
    "plt.xticks(fontsize=25)\n",
    "plt.yticks(fontsize=25)\n",
    "plt.tight_layout()\n",
    "fig.savefig(\"MHD_u.pdf\", format=\"pdf\", bbox_inches=\"tight\",transparent = \"True\")\n"
   ]
  },
  {
   "cell_type": "code",
   "execution_count": 10,
   "metadata": {},
   "outputs": [
    {
     "data": {
      "text/plain": [
       "<Figure size 400x200 with 0 Axes>"
      ]
     },
     "metadata": {},
     "output_type": "display_data"
    }
   ],
   "source": [
    "# Function to calculate exp(-MI) bound and its uncertainty (UQ)\n",
    "def calculate_bound_and_uq(input_data, output_data, num_trials):\n",
    "    # Compute MI using all the data\n",
    "    mi_full = KraskovMI1_nats(input_data, output_data, 10)\n",
    "    exp_mi_full = np.exp(-mi_full)\n",
    "\n",
    "    exp_mi_half_values = []\n",
    "    for _ in range(num_trials):\n",
    "        # Randomly select half of the data\n",
    "        indices = np.random.choice(input_data.shape[0], size=input_data.shape[0] // 2, replace=False)\n",
    "        input_half = input_data[indices]\n",
    "        output_half = output_data[indices]\n",
    "        # Compute MI for this subset and calculate exp(-MI_half)\n",
    "        mi_half = KraskovMI1_nats(input_half, output_half, 10)\n",
    "        exp_mi_half_values.append(np.exp(-mi_half))\n",
    "\n",
    "    # Calculate the mean of exp(-MI_half)\n",
    "    exp_mi_half_mean = np.mean(exp_mi_half_values)\n",
    "    \n",
    "    # UQ is the absolute difference between exp(-MI_full) and exp_mi_half_mean\n",
    "    uq = abs(exp_mi_full - exp_mi_half_mean)\n",
    "    \n",
    "    return exp_mi_full, uq\n",
    "\n",
    "\n",
    "# Initialize lists for results\n",
    "exp_mi_values = []\n",
    "uq_values = []\n",
    "x_labels = []\n",
    "\n",
    "# Number of trials for calculating exp(-MI_half)\n",
    "num_trials = 10  # Adjust for accuracy vs computation time\n",
    "\n",
    "exp_mi_full, uq = calculate_bound_and_uq(np.log(input_PI),np.log(Y.reshape(-1,1)), num_trials)\n",
    "exp_mi_values.append(exp_mi_full)\n",
    "uq_values.append(uq)\n",
    "# Plotting the results\n",
    "plt.figure(figsize=(4, 2))\n",
    "x_labels.append(r\"$\\Pi^{*}$\")\n",
    "\n",
    "    \n",
    "    "
   ]
  },
  {
   "cell_type": "code",
   "execution_count": 11,
   "metadata": {},
   "outputs": [
    {
     "data": {
      "image/png": "[encoded data removed]",
      "text/plain": [
       "<Figure size 400x200 with 1 Axes>"
      ]
     },
     "metadata": {},
     "output_type": "display_data"
    }
   ],
   "source": [
    "# Plotting the results\n",
    "plt.figure(figsize=(4, 2))\n",
    "plt.rcParams['font.family'] = 'Times New Roman'  # Set the font to Times New Roman\n",
    "plt.rcParams['text.usetex'] = True  # Use LaTeX for all text rendering\n",
    "plt.gca().spines['top'].set_linewidth(1.5)\n",
    "plt.gca().spines['bottom'].set_linewidth(1.5)\n",
    "plt.gca().spines['left'].set_linewidth(1.5)\n",
    "plt.gca().spines['right'].set_linewidth(1.5)\n",
    "\n",
    "# Use uq_values as the error bars\n",
    "plt.bar(x_labels, exp_mi_values, yerr=uq_values, capsize=5, edgecolor='black',color='red')\n",
    "plt.xticks(fontsize=25)\n",
    "plt.yticks(fontsize=20)\n",
    "plt.ylabel(r'$\\tilde{\\epsilon}_{L B}$', fontsize=25, labelpad=15)\n",
    "plt.ylim([0, 1])\n",
    "plt.savefig('MHD_rank.eps', dpi=300, bbox_inches='tight',transparent=True)\n",
    "plt.show()"
   ]
  },
  {
   "cell_type": "code",
   "execution_count": 12,
   "metadata": {},
   "outputs": [
    {
     "name": "stdout",
     "output_type": "stream",
     "text": [
      "[0.07812168047785056]\n"
     ]
    }
   ],
   "source": [
    "print(exp_mi_values)"
   ]
  }
 ],
 "metadata": {
  "kernelspec": {
   "display_name": "Python 3 (ipykernel)",
   "language": "python",
   "name": "python3"
  },
  "language_info": {
   "codemirror_mode": {
    "name": "ipython",
    "version": 3
   },
   "file_extension": ".py",
   "mimetype": "text/x-python",
   "name": "python",
   "nbconvert_exporter": "python",
   "pygments_lexer": "ipython3",
   "version": "3.10.7"
  }
 },
 "nbformat": 4,
 "nbformat_minor": 1
}
