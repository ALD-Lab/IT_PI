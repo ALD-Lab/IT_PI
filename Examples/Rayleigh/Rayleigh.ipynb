{
 "cells": [
  {
   "cell_type": "code",
   "execution_count": 1,
   "id": "7e95cfe0",
   "metadata": {},
   "outputs": [],
   "source": [
    "import numpy as np\n",
    "from scipy.special import erf\n",
    "import matplotlib as plt\n",
    "from numpy.linalg import inv, matrix_rank\n",
    "from pprint import pprint\n",
    "\n",
    "plt.rcParams['font.family'] = 'Times New Roman'  # Set the font to Times New Roman\n",
    "plt.rcParams['text.usetex'] = True  # Use LaTeX for all text rendering/', VIEW.as_view(), name=''),"
   ]
  },
  {
   "cell_type": "code",
   "execution_count": 2,
   "id": "a2f56e4d",
   "metadata": {},
   "outputs": [],
   "source": [
    "import sys\n",
    "import os\n",
    "current_notebook_dir = os.getcwd()\n",
    "# Replace with the path to your IT_PI.py function\n",
    "project_root_dir = os.path.join(current_notebook_dir, '..', '..')\n",
    "it_pi_module_dir = project_root_dir\n",
    "sys.path.append(it_pi_module_dir)\n",
    "import IT_PI"
   ]
  },
  {
   "cell_type": "code",
   "execution_count": 3,
   "id": "283a19cd",
   "metadata": {},
   "outputs": [],
   "source": [
    "## Generate dataset for Rayleigh's problem\n",
    "# Function to compute velocity profile u/U as a function of y and t for fixed U and nu\n",
    "def velocity_profile_rayleigh(y, nu, U, t):\n",
    "    return U * (1 - erf(y / (2 * np.sqrt(nu * t))))\n",
    "# Generate samples in the dataset\n",
    "y_values        = np.linspace(0, 1, 50)                    # Distance from the plate (m)\n",
    "t_values        = np.linspace(0.01, 5, 20)                 # Time values (s)\n",
    "n_samples       = 100                                        # Number of samples for U and nu\n",
    "U_samples       = np.random.uniform(0.5, 1.0, n_samples)   # Plate velocity (m/s)\n",
    "nu_samples      = np.random.uniform(1e-3, 1e-2, n_samples) # Kinematic viscosity (m^2/s)\n",
    "u_list          = []\n",
    "parameters_list = []\n",
    "\n",
    "for i in range(n_samples):\n",
    "    U_current   = U_samples[i]\n",
    "    nu_current  = nu_samples[i]\n",
    "    for y in y_values:\n",
    "        for t in t_values:\n",
    "            u_value = velocity_profile_rayleigh(y, nu_current, U_current, t)\n",
    "            u_list.append(u_value)\n",
    "            parameters_list.append([U_current, y, t, nu_current])\n",
    "u_array          = np.array(u_list).reshape(-1, 1)  \n",
    "parameters_array = np.array(parameters_list)\n"
   ]
  },
  {
   "cell_type": "code",
   "execution_count": 4,
   "id": "0ebdfa53",
   "metadata": {},
   "outputs": [
    {
     "name": "stdout",
     "output_type": "stream",
     "text": [
      "Rank of D_in: 2\n",
      "D_in matrix:\n",
      " [[ 1  1  0  2]\n",
      " [-1  0  1 -1]]\n",
      "Basis vectors:\n",
      "matrix([[-1.,  1., -1.,  0.],\n",
      "        [ 1.,  1.,  0., -1.]])\n"
     ]
    }
   ],
   "source": [
    "## Replace with your own input, dimensionless output, dimension matrix and variable name\n",
    "Y                = u_array/parameters_array[:,0].reshape(-1,1)  #Output \\Pi_o\n",
    "X                = parameters_array                             #Dimensional input list q                         \n",
    "D_in             = np.matrix('1 1 0 2;-1 0 1 -1')               #Define D_in matrix, first row \"L\",second row \"T\"\n",
    "num_input        = 1\n",
    "\n",
    "print(\"Rank of D_in:\", matrix_rank(D_in))\n",
    "print(\"D_in matrix:\\n\", D_in)\n",
    "num_basis    = D_in.shape[1] - matrix_rank(D_in)\n",
    "basis_matrices = IT_PI.calc_basis(D_in, num_basis)\n",
    "print(\"Basis vectors:\")\n",
    "pprint(basis_matrices)"
   ]
  },
  {
   "cell_type": "code",
   "execution_count": 5,
   "id": "0a3c28f6",
   "metadata": {},
   "outputs": [
    {
     "name": "stdout",
     "output_type": "stream",
     "text": [
      "------------------------------------------------------------\n",
      "num of parameters: 2\n",
      "\n",
      "Using estimator: 'binning' with hyperparameters: {'num_bins': 50}\n",
      "\n",
      "(150_w,300)-aCMA-ES (mu_w=78.0,w_1=3%) in dimension 2 (seed=42, Mon Jul 28 15:43:43 2025)\n",
      "Iterat #Fevals   function value  axis ratio  sigma  min&max std  t[m:s]\n",
      "    1    300 -1.297431197004336e+00 1.0e+00 6.35e-01  3e-01  5e-01 0:03.0\n",
      "    2    600 -1.269501114564854e+00 1.7e+00 5.79e-01  9e-02  2e-01 0:06.8\n",
      "    3    900 -1.353209778186525e+00 2.0e+00 7.73e-01  7e-02  2e-01 0:11.5\n",
      "    4   1200 -1.347806081584553e+00 2.8e+00 8.69e-01  5e-02  8e-02 0:16.2\n",
      "    5   1500 -1.357192413601294e+00 2.6e+00 1.19e+00  6e-02  8e-02 0:21.0\n",
      "    7   2100 -1.367725237520726e+00 6.1e+00 1.46e+00  2e-02  2e-02 0:30.7\n",
      "    9   2700 -1.378633733661215e+00 1.1e+01 1.75e+00  2e-02  2e-02 0:40.6\n",
      "   11   3300 -1.375843053281598e+00 1.5e+01 1.80e+00  1e-02  1e-02 0:50.8\n",
      "   13   3900 -1.377249949201134e+00 1.4e+01 1.73e+00  8e-03  9e-03 1:00.9\n",
      "   15   4500 -1.377224676072577e+00 1.1e+01 1.74e+00  6e-03  6e-03 1:11.0\n",
      "   17   5100 -1.377497222048095e+00 1.2e+01 1.59e+00  5e-03  5e-03 1:21.1\n",
      "   20   6000 -1.378338847678404e+00 1.4e+01 1.67e+00  4e-03  5e-03 1:36.3\n",
      "   23   6900 -1.377847151529197e+00 1.4e+01 1.62e+00  3e-03  3e-03 1:51.6\n",
      "   26   7800 -1.378687461445314e+00 1.1e+01 1.82e+00  4e-03  4e-03 2:06.8\n",
      "   29   8700 -1.379050159328092e+00 1.1e+01 1.61e+00  2e-03  2e-03 2:21.9\n",
      "   32   9600 -1.378550779225189e+00 4.1e+00 1.93e+00  3e-04  5e-04 2:37.6\n",
      "   35  10500 -1.379393136624090e+00 7.7e+00 2.77e+00  1e-04  3e-04 2:53.6\n",
      "   39  11700 -1.379824778498485e+00 1.4e+01 4.16e+00  2e-05  7e-05 3:14.9\n",
      "   43  12900 -1.379824778498485e+00 3.0e+01 5.00e+00  6e-06  2e-05 3:36.8\n",
      "   47  14100 -1.379827268241381e+00 4.3e+01 9.06e+00  1e-06  5e-06 3:58.2\n",
      "   51  15300 -1.379827268241381e+00 2.2e+01 1.23e+01  4e-07  2e-06 4:19.2\n",
      "   54  16200 -1.379827268241381e+00 3.8e+01 1.59e+01  2e-07  9e-07 4:35.8\n",
      "termination on tolfunhist=1e-12\n",
      "final/bestever f-value = -1.379827e+00 -1.379829e+00 after 16200/11713 evaluations\n",
      "incumbent solution: [0.09525749, 0.09524098]\n",
      "std deviation: [2.28399473e-07, 8.56579400e-07]\n",
      "Optimized_params: [0.09524161 0.09529799]\n",
      "Optimized_MI: -1.3798288707253477\n",
      "------------------------------------------------------------\n",
      "coef_pi: [[ 2.95909340e-04  1.00000000e+00 -4.99852045e-01 -5.00147955e-01]]\n"
     ]
    }
   ],
   "source": [
    "# Run dimensionless learning\n",
    "results = IT_PI.main(\n",
    "    X,\n",
    "    Y,\n",
    "    basis_matrices,\n",
    "    num_input=num_input,\n",
    "    estimator=\"binning\",\n",
    "    estimator_params={\"num_bins\": 50},\n",
    "    seed=42\n",
    ")\n",
    "\n",
    "\n",
    "input_PI = results[\"input_PI\"]\n",
    "epsilon  = results[\"irreducible_error\"]\n",
    "uq       = results[\"uncertainty\"]\n"
   ]
  },
  {
   "cell_type": "code",
   "execution_count": 6,
   "id": "a0d61e1b",
   "metadata": {},
   "outputs": [
    {
     "name": "stdout",
     "output_type": "stream",
     "text": [
      "Optimal_pi_lab[0] = $\\frac{y^{1.0}}{t^{0.5} \\cdot \\nu^{0.5}}$\n"
     ]
    },
    {
     "data": {
      "image/png": "[encoded data removed]",
      "text/plain": [
       "<Figure size 400x400 with 1 Axes>"
      ]
     },
     "metadata": {},
     "output_type": "display_data"
    },
    {
     "name": "stdout",
     "output_type": "stream",
     "text": [
      "x_labels: ['${\\\\Pi}^*$']\n"
     ]
    },
    {
     "data": {
      "image/png": "[encoded data removed]",
      "text/plain": [
       "<Figure size 400x300 with 1 Axes>"
      ]
     },
     "metadata": {},
     "output_type": "display_data"
    }
   ],
   "source": [
    "coef_pi_list     = results[\"input_coef\"]\n",
    "variables        = ['U','y', 't','\\\\nu'];                       #Define variable name\n",
    "optimal_pi_lab   = IT_PI.create_labels(np.array(coef_pi_list).reshape(-1, len(variables)), variables)\n",
    "for j, label in enumerate(optimal_pi_lab):\n",
    "    print(f'Optimal_pi_lab[{j}] = {label}')\n",
    "IT_PI.plot_scatter(input_PI,Y)\n",
    "IT_PI.plot_error_bars(input_PI, epsilon,uq)\n"
   ]
  }
 ],
 "metadata": {
  "kernelspec": {
   "display_name": "IT_PI",
   "language": "python",
   "name": "python3"
  },
  "language_info": {
   "codemirror_mode": {
    "name": "ipython",
    "version": 3
   },
   "file_extension": ".py",
   "mimetype": "text/x-python",
   "name": "python",
   "nbconvert_exporter": "python",
   "pygments_lexer": "ipython3",
   "version": "3.8.20"
  }
 },
 "nbformat": 4,
 "nbformat_minor": 5
}
