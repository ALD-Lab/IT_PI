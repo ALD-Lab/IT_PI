{
 "cells": [
  {
   "cell_type": "code",
   "execution_count": 1,
   "id": "cabb1642",
   "metadata": {},
   "outputs": [],
   "source": [
    "import numpy as np\n",
    "from scipy.special import erf\n",
    "import matplotlib.pyplot as plt\n",
    "import pandas as pd\n",
    "from numpy.linalg import matrix_rank, inv\n",
    "from pprint import pprint\n",
    "import cma\n",
    "import warnings\n",
    "import random\n",
    "import scipy.special as scis\n",
    "import scipy.spatial as scispa\n",
    "from cma import CMAEvolutionStrategy"
   ]
  },
  {
   "cell_type": "code",
   "execution_count": 2,
   "id": "5363c8b2",
   "metadata": {},
   "outputs": [],
   "source": [
    "df = pd.read_csv(\"dataset_rb.csv\")\n",
    "data = df.iloc[:, 2:12].to_numpy()\n",
    "\n",
    "Nu = (data[:, 0] * data[:, 1]) / (data[:, 3] * data[:, 2])  # Nusselt number\n",
    "Y  = Nu\n"
   ]
  },
  {
   "cell_type": "code",
   "execution_count": 3,
   "id": "aa6717ea",
   "metadata": {},
   "outputs": [],
   "source": [
    "X = data[:, [1, 2, 3, 4, 5, 6, 7]] \n",
    "X_o = X\n",
    "#X = X / X.max(axis=0)\n",
    "Ra = (X_o[:, 3] * X_o[:, 4] * X_o[:, 1] * X_o[:, 0]**3) / (X_o[:, 5] * X_o[:, 6])  # Rayleigh number\n",
    "\n",
    "variables_tauw   = ['h','\\\\delta_T', '\\\\lambda','g','\\\\alpha','\\\\nu','\\\\kappa'];                       #Define variable name\n",
    "D_in             = np.matrix('1 0 1 1 0 2 2;0 0 -3 -2 0 -1 -1; 0 0 1 0 0 0 0; 0 1 -1 0 -1 0 0')                           #Define D_in matrix \n",
    "num_input        = 1\n"
   ]
  },
  {
   "cell_type": "code",
   "execution_count": 4,
   "id": "f2b46d8d",
   "metadata": {},
   "outputs": [
    {
     "name": "stdout",
     "output_type": "stream",
     "text": [
      "Rank of D_in: 4\n",
      "D_in matrix:\n",
      " [[ 1  0  1  1  0  2  2]\n",
      " [ 0  0 -3 -2  0 -1 -1]\n",
      " [ 0  0  1  0  0  0  0]\n",
      " [ 0  1 -1  0 -1  0  0]]\n",
      "Basis vectors:\n",
      "matrix([[ 0. ,  1. ,  0. ,  0. ,  1. ,  0. ,  0. ],\n",
      "        [-1.5,  0. ,  0. , -0.5,  0. ,  1. ,  0. ],\n",
      "        [-1.5,  0. ,  0. , -0.5,  0. ,  0. ,  1. ]])\n"
     ]
    }
   ],
   "source": [
    "print(\"Rank of D_in:\", matrix_rank(D_in))\n",
    "print(\"D_in matrix:\\n\", D_in)\n",
    "num_rows          = np.shape(D_in)[0]\n",
    "num_cols          = np.shape(D_in)[1]\n",
    "# Function to calculate basis matrices\n",
    "def calc_basis(D_in, col_range):\n",
    "    num_rows      = np.shape(D_in)[0]\n",
    "    num_cols      = np.shape(D_in)[1]\n",
    "    Din1, Din2    = D_in[:, :num_rows], D_in[:, num_rows:]\n",
    "    basis_matrices = []\n",
    "    for i in range(col_range):\n",
    "        x2       = np.zeros((col_range, 1))\n",
    "        x2[i, 0] = 1\n",
    "        x1       = -inv(Din1) * Din2 * x2\n",
    "        basis_matrices.append(np.vstack((x1, x2)))\n",
    "    return np.asmatrix(np.array(basis_matrices))\n",
    "# Generate basis matrices\n",
    "num_basis        = D_in.shape[1] -matrix_rank(D_in)\n",
    "basis_matrices   = calc_basis(D_in, num_basis)\n",
    "print(\"Basis vectors:\")\n",
    "pprint(basis_matrices)\n",
    "basis_matrices = np.matrix('0 0 0 0 0 1 -1;0 1 0 0 1 0 0;3 0 0 1 0 -2 0')\n",
    "#pprint(basis_matrices)\n"
   ]
  },
  {
   "cell_type": "code",
   "execution_count": 5,
   "id": "0efbf9b9",
   "metadata": {},
   "outputs": [],
   "source": [
    "def calc_pi(c, basis_matrices,X):\n",
    "    coef_pi = np.dot(c, basis_matrices) \n",
    "    pi_mat = np.ones((X.shape[0], 1))\n",
    "    for i in range(coef_pi.shape[1]):\n",
    "        tmp = X[:, i] ** coef_pi[:, i]\n",
    "        pi_mat = np.multiply(pi_mat, tmp.reshape(-1, 1))\n",
    "    return pi_mat\n",
    "def calc_pi_omega(coef_pi, X):\n",
    "    pi_mat = np.ones((X.shape[0], 1))\n",
    "    for i in range(coef_pi.shape[1]):\n",
    "        tmp = X[:, i] ** coef_pi[:, i]\n",
    "        pi_mat = np.multiply(pi_mat, tmp.reshape(-1, 1))\n",
    "        \n",
    "    return pi_mat\n",
    "def MI_d_binning(input, output, num_bins):\n",
    "    #Calculate the mutual information between two matrices X and Y using histograms.\n",
    "    #Fast! But not Accurate! Using it for approximation.\n",
    "    #Parameters:\n",
    "    #X (numpy.ndarray): A matrix with shape (num_samples, num_dimensions)\n",
    "    #Y (numpy.ndarray): A matrix with shape (num_samples, num_dimensions)\n",
    "    #num_bins (int): Number of bins for the histogram\n",
    "    #Returns:\n",
    "    #float: The mutual information between X and Y.\n",
    "    def entropy_bin(X, num_bins):\n",
    "        N, D = X.shape\n",
    "        bins = [num_bins] * D\n",
    "        hist, _ = np.histogramdd(X, bins=bins)\n",
    "        hist = hist / np.sum(hist)  # Normalize to get probabilities\n",
    "        positive_indices = hist > 0\n",
    "        return -np.sum(hist[positive_indices] * np.log(hist[positive_indices]))\n",
    "\n",
    "    mi = entropy_bin(input, num_bins) + entropy_bin(output, num_bins) - entropy_bin(np.hstack([input, output]), num_bins)\n",
    "    return mi\n",
    "\n",
    "def KraskovMI1_nats( x, y, k : int = 1 ):\n",
    "    '''Compute the mutual information using the Kraskov estimator (approach\n",
    "    1 in Kraskov et al. (2004))\n",
    "    Parameters\n",
    "        x:  np.ndarray\n",
    "            [ N, dim_x ] First variable of dimension \"dim_x\" with \"N\" samples\n",
    "            per dimension\n",
    "        y:  np.ndarray\n",
    "            [ N, dim_x ] second variable of dimension \"dim_x\" with \"N\" samples\n",
    "            per dimension\n",
    "        \n",
    "        k:  int\n",
    "            Nearest-neighbor ( >= 1 )\n",
    "    '''\n",
    "\n",
    "    N, dim = x.shape\n",
    "\n",
    "    V = np.hstack([ x, y ])\n",
    "\n",
    "    # Init query tree\n",
    "    kdtree = scispa.KDTree( V )\n",
    "    ei, _ = kdtree.query( V, k + 1, p = np.infty)\n",
    "    # infty norm is gonna give us the maximum distance (x-dir or y-dir)\n",
    "    dM = ei[:,-1]\n",
    "\n",
    "    kdtree_x = scispa.KDTree( x )\n",
    "    kdtree_y = scispa.KDTree( y )\n",
    "\n",
    "    nx = kdtree_x.query_ball_point( x, dM , p = np.infty, return_length = True)\n",
    "    ny = kdtree_y.query_ball_point( y, dM , p = np.infty, return_length = True)\n",
    "\n",
    "    # we do not add + 1 because it is accounted in query_ball_point\n",
    "    ave = ( scis.psi( nx ) + scis.psi( ny ) ).mean()\n",
    "\n",
    "    return scis.psi(k) - ave + scis.psi(N)"
   ]
  },
  {
   "cell_type": "code",
   "execution_count": 6,
   "id": "518df695",
   "metadata": {},
   "outputs": [],
   "source": [
    "def MI_input_output(para,basis_matrices,X,Y,num_basis,num_inputs):\n",
    "    with warnings.catch_warnings():\n",
    "        warnings.filterwarnings('error') \n",
    "        a_list = [tuple(para[i*num_basis:(i+1)*num_basis]) for i in range(num_inputs)]\n",
    "        try:\n",
    "            pi_list = [calc_pi(a, basis_matrices, X) for a in a_list]\n",
    "            pi = np.column_stack(pi_list)\n",
    "        except RuntimeWarning:\n",
    "            return random.uniform(1e6, 1e10)  # Return a large positive value in case of RuntimeWarning\n",
    "    if np.any(np.isnan(pi)):\n",
    "        return random.uniform(1e6, 1e10)  # Return a large positive value\n",
    "    \n",
    "    Y = Y.reshape(-1, 1)\n",
    "    #MI = MI_d_binning(np.array(pi), np.array(Y), 20)\n",
    "    MI = KraskovMI1_nats(np.log(np.array(pi)), np.log(np.array(Y)), 10)\n",
    "    #MI = KraskovMI1_nats((np.array(pi)), (np.array(Y)), 5)\n",
    "\n",
    "    return -MI\n"
   ]
  },
  {
   "cell_type": "code",
   "execution_count": 7,
   "id": "70536c9c",
   "metadata": {},
   "outputs": [
    {
     "name": "stdout",
     "output_type": "stream",
     "text": [
      "num of paraters: 3\n",
      "(250_w,500)-aCMA-ES (mu_w=128.6,w_1=2%) in dimension 3 (seed=2686, Thu Mar 27 11:50:38 2025)\n",
      "Iterat #Fevals   function value  axis ratio  sigma  min&max std  t[m:s]\n",
      "    1    500 -2.057423504923268e+00 1.0e+00 6.29e-01  6e-01  7e-01 0:00.2\n",
      "    2   1000 -2.313152544327276e+00 2.6e+00 7.40e-01  7e-01  7e-01 0:00.4\n",
      "    3   1500 -2.322997814361446e+00 5.2e+00 8.55e-01  7e-01  7e-01 0:00.6\n",
      "   20  10000 -2.469834341275841e+00 1.8e+01 1.87e+00  1e-02  1e-02 0:03.7\n",
      "   42  21000 -2.473248646750586e+00 1.3e+01 7.03e+00  5e-05  5e-05 0:07.7\n",
      "termination on tolx=0.0001\n",
      "final/bestever f-value = -2.473249e+00 -2.473249e+00 after 21000/14508 evaluations\n",
      "incumbent solution: [0.30324313111673823, 0.32255517150492236, 0.31788407908864685]\n",
      "std deviation: [5.376970483376284e-05, 4.8595251215568236e-05, 4.884763235543613e-05]\n",
      "Optimized_params [0.30325458 0.32254754 0.31785461]\n",
      "Optimized_MI -2.473248646750586\n"
     ]
    }
   ],
   "source": [
    "num_para = num_basis*num_input\n",
    "print('num of paraters:',num_para)\n",
    "lower_bounds = [-1] * num_para  # exponent lower bound\n",
    "upper_bounds = [1] * num_para   # exponent upper bound\n",
    "bounds = [lower_bounds, upper_bounds]\n",
    "options = {\n",
    "    'bounds': bounds,\n",
    "    'maxiter': 50000,  # maximum number of iterations\n",
    "    'tolx': 1e-4,     # tolerance in solution variability\n",
    "    'tolfun': 1e-4,   # tolerance in function value changes\n",
    "    'popsize': 500,\n",
    "    'seed':2686,\n",
    "}\n",
    "es = CMAEvolutionStrategy([0.1] * num_para, 0.5,options)\n",
    "while not es.stop():\n",
    "    solutions = es.ask()\n",
    "    es.tell(solutions, [MI_input_output(x,basis_matrices,X,Y,num_basis,num_input) for x in solutions])\n",
    "    es.disp()\n",
    "es.result_pretty()\n",
    "optimized_params = es.result.xbest\n",
    "optimized_MI     = es.result.fbest\n",
    "print('Optimized_params',optimized_params)\n",
    "print('Optimized_MI',optimized_MI)"
   ]
  },
  {
   "cell_type": "code",
   "execution_count": 12,
   "id": "5773736d",
   "metadata": {},
   "outputs": [
    {
     "name": "stdout",
     "output_type": "stream",
     "text": [
      "coef_pi1 [[ 3.  1.  0.  1.  1. -1. -1.]]\n"
     ]
    }
   ],
   "source": [
    "a_list                  = [tuple(optimized_params[i*num_basis:(i+1)*num_basis]) for i in range(num_input)]\n",
    "# print('a_list:',a_list)\n",
    "coef_pi_list            = [np.dot(a, basis_matrices) for a in a_list]\n",
    "normalized_coef_pi_list = []\n",
    "for coef_pi in coef_pi_list:\n",
    "    max_abs_value       = np.max(np.abs(coef_pi))\n",
    "    normalized_coef_pi  = coef_pi / max_abs_value*3\n",
    "    normalized_coef_pi_list.append(np.round(normalized_coef_pi,1))\n",
    "# Print the normalized coef_pi values\n",
    "for i, normalized_coef_pi in enumerate(normalized_coef_pi_list):\n",
    "    print(f'coef_pi{i+1}', normalized_coef_pi)"
   ]
  },
  {
   "cell_type": "code",
   "execution_count": 13,
   "id": "11329da9",
   "metadata": {},
   "outputs": [
    {
     "name": "stdout",
     "output_type": "stream",
     "text": [
      "tauw_lab[0] = $\\frac{h^{3.0} \\cdot \\delta_T^{1.0} \\cdot g^{1.0} \\cdot \\alpha^{1.0}}{\\nu^{1.0} \\cdot \\kappa^{1.0}}$\n"
     ]
    }
   ],
   "source": [
    "# Initialize labels\n",
    "tauw_lab = []\n",
    "qw_lab = []\n",
    "omega_tauw = np.array(normalized_coef_pi_list)\n",
    "omega_tauw = np.array(omega_tauw).reshape(-1, len(variables_tauw))\n",
    "def create_labels(omega, variables):\n",
    "    labels = []\n",
    "    for row in omega:\n",
    "        positive_part = ''\n",
    "        negative_part = ''\n",
    "        for i, value in enumerate(row):\n",
    "            if value > 0:\n",
    "                if positive_part == '':\n",
    "                    positive_part = f\"{variables[i]}^{{{value}}}\"\n",
    "                else:\n",
    "                    positive_part += f\" \\\\cdot {variables[i]}^{{{value}}}\"\n",
    "            elif value < 0:\n",
    "                if negative_part == '':\n",
    "                    negative_part = f\"{variables[i]}^{{{-value}}}\"\n",
    "                else:\n",
    "                    negative_part += f\" \\\\cdot {variables[i]}^{{{-value}}}\"\n",
    "        if negative_part == '':\n",
    "            labels.append(f\"${positive_part}$\")\n",
    "        elif positive_part == '':\n",
    "            labels.append(f\"$\\\\frac{{1}}{{{negative_part}}}$\")\n",
    "        else:\n",
    "            labels.append(f\"$\\\\frac{{{positive_part}}}{{{negative_part}}}$\")\n",
    "    return labels\n",
    "\n",
    "tauw_lab = create_labels(omega_tauw, variables_tauw)\n",
    "# Print the labels\n",
    "for j, label in enumerate(tauw_lab):\n",
    "    print(f'tauw_lab[{j}] = {label}')\n"
   ]
  },
  {
   "cell_type": "code",
   "execution_count": 14,
   "id": "c8985c28",
   "metadata": {},
   "outputs": [],
   "source": [
    "input_list = [calc_pi_omega(np.array(omega), X_o) for omega in normalized_coef_pi_list]\n",
    "input_tauw = np.column_stack(input_list)"
   ]
  },
  {
   "cell_type": "code",
   "execution_count": 11,
   "id": "c7671e18",
   "metadata": {},
   "outputs": [
    {
     "data": {
      "image/png": "[encoded data removed]",
      "text/plain": [
       "<Figure size 400x400 with 1 Axes>"
      ]
     },
     "metadata": {},
     "output_type": "display_data"
    }
   ],
   "source": [
    "import matplotlib as mpl\n",
    "from matplotlib import rcParams\n",
    "mpl.rc('text', usetex=True)\n",
    "mpl.rc('font', family='serif')\n",
    "mpl.rc('xtick', labelsize=20)\n",
    "mpl.rc('ytick', labelsize=20)\n",
    "mpl.rc('axes', labelsize=25)\n",
    "mpl.rc('axes', titlesize=25)\n",
    "mpl.rc('figure', figsize=(6, 4))\n",
    "fig = plt.figure(figsize=(4, 4))\n",
    "plt.scatter(((input_tauw)),(Y))\n",
    "plt.xlabel(tauw_lab[0], fontsize=25, labelpad=10)  \n",
    "plt.xlabel(r\" $\\Pi^* $\", fontsize=25, labelpad=10)  \n",
    "plt.ylabel(r\" $\\Pi_o^*$\", fontsize=25, labelpad=10)\n",
    "plt.xscale(\"log\")\n",
    "plt.yscale(\"log\")\n",
    "plt.xticks(fontsize=25)\n",
    "plt.yticks(fontsize=25)\n",
    "\n",
    "fig.savefig(\"Benard.eps\", format=\"eps\", bbox_inches=\"tight\",transparent = \"True\")\n",
    "\n"
   ]
  },
  {
   "cell_type": "code",
   "execution_count": null,
   "id": "b9b6c99d",
   "metadata": {},
   "outputs": [],
   "source": []
  }
 ],
 "metadata": {
  "kernelspec": {
   "display_name": "Python 3 (ipykernel)",
   "language": "python",
   "name": "python3"
  },
  "language_info": {
   "codemirror_mode": {
    "name": "ipython",
    "version": 3
   },
   "file_extension": ".py",
   "mimetype": "text/x-python",
   "name": "python",
   "nbconvert_exporter": "python",
   "pygments_lexer": "ipython3",
   "version": "3.10.7"
  }
 },
 "nbformat": 4,
 "nbformat_minor": 5
}
