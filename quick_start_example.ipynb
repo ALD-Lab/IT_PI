{
 "cells": [
  {
   "cell_type": "code",
   "execution_count": null,
   "id": "9685124d",
   "metadata": {},
   "outputs": [],
   "source": [
    "import dimensionless_learning as dl\n",
    "\n",
    "# Generate data\n",
    "X, u = dl.generate_rayleigh_samples()\n",
    "Y = u / X[:,0].reshape(-1,1)\n",
    "\n",
    "# Define dimension matrix and variable names\n",
    "D_in = np.array([[1,1,0,2],[-1,0,1,-1]])\n",
    "variables = ['U','y','t','nu']\n",
    "\n",
    "# Learn dimensionless variable\n",
    "result = dl.learn_dimensionless(X, Y, D_in, variables)\n",
    "\n",
    "# Show results\n",
    "print(\"Labels of dimensionless variable(s):\", result[\"labels\"])\n",
    "print(\"Irreducible error:\", result[\"irreducible_error\"])\n",
    "print(\"Uncertainty:\", result[\"uncertainty\"])"
   ]
  }
 ],
 "metadata": {
  "language_info": {
   "name": "python"
  }
 },
 "nbformat": 4,
 "nbformat_minor": 5
}
